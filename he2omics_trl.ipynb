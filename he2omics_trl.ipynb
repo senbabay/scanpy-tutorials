{
 "cells": [
  {
   "cell_type": "code",
   "execution_count": 1,
   "metadata": {},
   "outputs": [],
   "source": [
    "import os, sys\n",
    "sys.path.append( '..' )\n",
    "numGenes = 50\n",
    "rootdir = '/gstore/data/tmai/Yasin/TMONC/HE2OMICS/TRL/2024_1_8/'\n",
    "num_split = 10\n",
    "num_fold = 5"
   ]
  },
  {
   "cell_type": "code",
   "execution_count": 2,
   "metadata": {},
   "outputs": [],
   "source": [
    "import argparse\n",
    "import pickle as pkl\n",
    "import pandas as pd\n",
    "import numpy as np\n",
    "from collections import Counter\n",
    "#from wsi_data import subset_wsi_dataset\n",
    "\n",
    "import torch\n",
    "from torch import nn, optim\n",
    "import torch.multiprocessing as mp\n",
    "from torch.utils.data import Subset\n",
    "\n",
    "import copy as cp\n",
    "import yaml\n",
    "from sklearn.model_selection import KFold, StratifiedKFold\n",
    "\n",
    "import matplotlib.pyplot as plt\n",
    "import configparser"
   ]
  },
  {
   "cell_type": "code",
   "execution_count": 3,
   "metadata": {},
   "outputs": [],
   "source": [
    "from experiment import Experiment\n",
    "from copy import deepcopy\n",
    "#sortedFile = 'results_single_split_sorted.csv'"
   ]
  },
  {
   "cell_type": "code",
   "execution_count": 4,
   "metadata": {},
   "outputs": [],
   "source": [
    "from wsi_data import patient_stratified_kfold,patient_stratified_single_run\n",
    "from omic_materials.model import OmicToSubtype\n",
    "from omic_materials.experiment import OmicSetup\n",
    "from omic_materials.train import *"
   ]
  },
  {
   "cell_type": "code",
   "execution_count": 5,
   "metadata": {},
   "outputs": [],
   "source": [
    "def subset_wsi_dataset(dataset, subset_ix):\n",
    "    \"\"\" Subset WSI dataset class instance with indices from subset_ix\n",
    "    \"\"\"\n",
    "    dataset_copy = deepcopy(dataset)\n",
    "    dataset_copy.samples = [dataset.samples[ix] for ix in subset_ix]\n",
    "    dataset_copy.patients = np.array([dataset.patients[ix] for ix in subset_ix])\n",
    "    dataset_copy.trials = pd.Series([dataset.trials[ix] for ix in subset_ix])\n",
    "    dataset_copy.subtypes = pd.Series([dataset.subtypes[ix] for ix in subset_ix])\n",
    "    return(dataset_copy)  "
   ]
  },
  {
   "cell_type": "code",
   "execution_count": 6,
   "metadata": {},
   "outputs": [],
   "source": [
    "def convert_to_subtype_prediction(dataset,class_names,scaleFeatures=True,n_tiles=False):\n",
    "    \"\"\"\n",
    "    Change (image,expression) tuples to (image,subtype), and make AlltilesWSI dataset\n",
    "    \"\"\"\n",
    "    # string names for subtypes\n",
    "    subtype = [str(i) for i in list(group2_dataset.subtypes)]\n",
    "    # convert to indices\n",
    "    subtype = [class_names.index(name) for name in subtype]\n",
    "    \n",
    "    dataset_copy = deepcopy(dataset)\n",
    "    new_samples = [(image,int(subtype[idx])) for idx,(image,_) in enumerate(dataset_copy.samples)]\n",
    "    #dataset_copy.samples = new_samples\n",
    "    subtype_dataset = AlltilesWSI(new_samples,scaleFeatures=scaleFeatures,n_tiles=n_tiles)\n",
    "    return(subtype_dataset)"
   ]
  },
  {
   "cell_type": "markdown",
   "metadata": {
    "tags": []
   },
   "source": [
    "### Define config files, use 50 most discriminant genes in HE2Omics"
   ]
  },
  {
   "cell_type": "code",
   "execution_count": 7,
   "metadata": {},
   "outputs": [
    {
     "name": "stdout",
     "output_type": "stream",
     "text": [
      "Using configuration defined in /gstore/data/tmai/Yasin/TMONC/HE2OMICS/TRL/2024_1_8/configs/IMvigor_3trial_50genes.ini\n"
     ]
    }
   ],
   "source": [
    "confi = yaml.load(open(os.path.join(rootdir, \"config_main_\"+str(numGenes)+\"genes.yaml\"), \"r\"), Loader=yaml.FullLoader)\n",
    "print('Using configuration defined in {}'.format(confi['config']))"
   ]
  },
  {
   "cell_type": "markdown",
   "metadata": {},
   "source": [
    "### Build dataset and permute patients stratifying on trial and subtype"
   ]
  },
  {
   "cell_type": "code",
   "execution_count": 8,
   "metadata": {},
   "outputs": [
    {
     "name": "stdout",
     "output_type": "stream",
     "text": [
      "logTransform: False, scaleVariables: False, ensureNonnegativity: True\n",
      "Number of variables in input: 51\n",
      "Number of genes found in transcriptome data: 51\n",
      "Filtered out 161 slides less than 1000 tiles\n",
      "number of images with paired omic data: 2285\n",
      "Number of patients: 1810\n"
     ]
    }
   ],
   "source": [
    "config = confi['config']\n",
    "exp = Experiment(config)\n",
    "\n",
    "# Read architecture and training parameters\n",
    "model_params = exp._read_architecture()\n",
    "training_params = exp._read_training_params()\n",
    "\n",
    "# Build dataset\n",
    "dataset = exp._build_dataset()\n",
    "# UNIQUE PATIENT IDENTIFIERS\n",
    "pat_ids_unique, uniq_indices = np.unique(dataset.patients,return_index=True)\n",
    "TOT_pat = pat_ids_unique.shape[0]\n",
    "print(f'Number of patients: {TOT_pat}')\n",
    "\n",
    "# STRATIFY BY TRIAL AND SUBTYPE\n",
    "class_list = []\n",
    "for trial,subtype in zip(dataset.trials,dataset.subtypes):\n",
    "    class_list.append(trial+'_NMF'+str(subtype))\n",
    "class_list = np.array(class_list)\n",
    "class_list_patients = class_list[uniq_indices]\n",
    "\n",
    "# PARAMETERS\n",
    "Nsplit = 10\n",
    "kfold_group1 = 5\n",
    "\n",
    "# PERMUTE PATIENTS\n",
    "ind_testing = np.zeros((Nsplit, TOT_pat))\n",
    "np.random.seed(42)\n",
    "for i in range(Nsplit):\n",
    "    ind_testing[i, :] = np.random.permutation(TOT_pat)\n",
    "ind_testing = ind_testing.astype(int)"
   ]
  },
  {
   "cell_type": "markdown",
   "metadata": {},
   "source": [
    "### Prep omics to subtype config file"
   ]
  },
  {
   "cell_type": "code",
   "execution_count": 9,
   "metadata": {},
   "outputs": [
    {
     "name": "stdout",
     "output_type": "stream",
     "text": [
      "Using configuration defined in /gstore/data/tmai/Yasin/TMONC/HE2OMICS/TRL/2024_1_8/omic_materials/omic_config_4000_tiles.ini\n",
      "4000\n",
      "OMIC_nano_do_0.2_0.2_epoch_200_pat_30_scale_No_tile_4000_lr_1e-4_wd_0.1_step_10_gamma_0.9\n"
     ]
    }
   ],
   "source": [
    "# Create folder for transfer learning output\n",
    "trl_dir = exp.savedir + '_TRL'\n",
    "os.makedirs(trl_dir, exist_ok=True)\n",
    "\n",
    "# Create folder to store AUC and ACC results\n",
    "outfolder = 'results' \n",
    "os.makedirs(os.path.join(trl_dir,outfolder), exist_ok=True)\n",
    "\n",
    "config_path = os.path.join(rootdir,'omic_materials/omic_config_4000_tiles.ini')\n",
    "print('Using configuration defined in {}'.format(config_path))\n",
    "omic_setup = OmicSetup(config_path) \n",
    "\n",
    "model_params = omic_setup._read_architecture()\n",
    "training_params = omic_setup._read_training_params()\n",
    "build_params = omic_setup._build_feature_data()\n",
    "\n",
    "model_params['n_classes'] = 4\n",
    "#model_params['input_feature_size'] depends on scores, so will be determined inside loop\n",
    "\n",
    "if model_params['p_dropout_fc'] is not None:\n",
    "    model_params['dropout_fc'] = True\n",
    "    \n",
    "if model_params['p_dropout_atn'] is not None:\n",
    "    model_params['dropout_atn'] = True\n",
    "    \n",
    "scaleOmicFeatures = False\n",
    "if build_params['scaleOmicFeatures'] == \"Yes\":\n",
    "    scaleOmicFeatures = True\n",
    "    \n",
    "n_tiles = False\n",
    "if isinstance(build_params['num_tiles'], int):\n",
    "    n_tiles = build_params['num_tiles']\n",
    "print(n_tiles)\n",
    "\n",
    "class_names = ['1','2','3','4']\n",
    "#kfold_group2 = 5\n",
    "\n",
    "do1 = model_params['p_dropout_fc']\n",
    "do2 = model_params['p_dropout_atn']\n",
    "me = training_params['max_epochs']\n",
    "pa = training_params['patience']\n",
    "sc = build_params['scaleOmicFeatures']\n",
    "nt = build_params['num_tiles']\n",
    "### OPtimization and scheduling\n",
    "my_config = configparser.ConfigParser()\n",
    "my_config.read(config_path)\n",
    "dic1 = my_config['optimization']\n",
    "lr = dic1['lr']\n",
    "wd = dic1['weight_decay']\n",
    "dic2 = my_config['scheduler']\n",
    "ss = dic2['step_size']\n",
    "gam = dic2['gamma']\n",
    "### Print all\n",
    "outfile_base = f\"OMIC_{model_params['model_size']}_do_{do1}_{do2}_epoch_{me}_pat_{pa}_scale_{sc}_tile_{nt}_lr_{lr}_wd_{wd}_step_{ss}_gamma_{gam}\"\n",
    "print(outfile_base)"
   ]
  },
  {
   "cell_type": "markdown",
   "metadata": {},
   "source": [
    "### Obtain HE2Omics embeddings and do transfer learning"
   ]
  },
  {
   "cell_type": "code",
   "execution_count": null,
   "metadata": {},
   "outputs": [
    {
     "name": "stdout",
     "output_type": "stream",
     "text": [
      "Number of group 1 patients: 905, Number of group 2 patients: 905\n",
      "Number of group 1 images: 1153, Number of group 2 images: 1132\n",
      "Running split 6, fold 0\n",
      "split: 6, OMIC fold:0, CLAM fold: 0\n",
      "Training omics-based classifier\n"
     ]
    },
    {
     "name": "stderr",
     "output_type": "stream",
     "text": [
      "  0%|          | 0/920 [00:00<?, ?it/s]"
     ]
    },
    {
     "name": "stdout",
     "output_type": "stream",
     "text": [
      "Val set AUROC: 0.4643, accuracy: 0.189\n",
      "Num epochs since best: 1\n"
     ]
    },
    {
     "name": "stderr",
     "output_type": "stream",
     "text": [
      "100%|██████████| 920/920 [00:07<00:00, 121.02it/s]\n",
      "  0%|          | 0/920 [00:00<?, ?it/s]"
     ]
    },
    {
     "name": "stdout",
     "output_type": "stream",
     "text": [
      "train loss: 1.1523, val loss: 0.9976\n",
      "Num epochs since best: 1\n"
     ]
    },
    {
     "name": "stderr",
     "output_type": "stream",
     "text": [
      "100%|██████████| 920/920 [00:07<00:00, 115.65it/s]\n",
      "  0%|          | 0/920 [00:00<?, ?it/s]"
     ]
    },
    {
     "name": "stdout",
     "output_type": "stream",
     "text": [
      "train loss: 0.9752, val loss: 0.9734\n",
      "Num epochs since best: 1\n"
     ]
    },
    {
     "name": "stderr",
     "output_type": "stream",
     "text": [
      "100%|██████████| 920/920 [00:07<00:00, 119.48it/s]\n",
      "  0%|          | 0/920 [00:00<?, ?it/s]"
     ]
    },
    {
     "name": "stdout",
     "output_type": "stream",
     "text": [
      "train loss: 0.9394, val loss: 0.9341\n",
      "Num epochs since best: 1\n"
     ]
    },
    {
     "name": "stderr",
     "output_type": "stream",
     "text": [
      "100%|██████████| 920/920 [00:07<00:00, 118.77it/s]\n",
      "  0%|          | 0/920 [00:00<?, ?it/s]"
     ]
    },
    {
     "name": "stdout",
     "output_type": "stream",
     "text": [
      "train loss: 0.9221, val loss: 0.9396\n",
      "Num epochs since best: 2\n"
     ]
    },
    {
     "name": "stderr",
     "output_type": "stream",
     "text": [
      "100%|██████████| 920/920 [00:07<00:00, 121.12it/s]\n",
      "  0%|          | 0/920 [00:00<?, ?it/s]"
     ]
    },
    {
     "name": "stdout",
     "output_type": "stream",
     "text": [
      "train loss: 0.9123, val loss: 0.9319\n",
      "Num epochs since best: 1\n"
     ]
    },
    {
     "name": "stderr",
     "output_type": "stream",
     "text": [
      "100%|██████████| 920/920 [00:07<00:00, 120.19it/s]\n",
      "  0%|          | 0/920 [00:00<?, ?it/s]"
     ]
    },
    {
     "name": "stdout",
     "output_type": "stream",
     "text": [
      "train loss: 0.8950, val loss: 0.9394\n",
      "Num epochs since best: 1\n"
     ]
    },
    {
     "name": "stderr",
     "output_type": "stream",
     "text": [
      "100%|██████████| 920/920 [00:07<00:00, 120.39it/s]\n",
      "  0%|          | 0/920 [00:00<?, ?it/s]"
     ]
    },
    {
     "name": "stdout",
     "output_type": "stream",
     "text": [
      "train loss: 0.8801, val loss: 0.9235\n",
      "Num epochs since best: 1\n"
     ]
    },
    {
     "name": "stderr",
     "output_type": "stream",
     "text": [
      "100%|██████████| 920/920 [00:07<00:00, 120.07it/s]\n",
      "  0%|          | 0/920 [00:00<?, ?it/s]"
     ]
    },
    {
     "name": "stdout",
     "output_type": "stream",
     "text": [
      "train loss: 0.8685, val loss: 0.9198\n",
      "Num epochs since best: 1\n"
     ]
    },
    {
     "name": "stderr",
     "output_type": "stream",
     "text": [
      "100%|██████████| 920/920 [00:07<00:00, 120.43it/s]\n",
      "  0%|          | 0/920 [00:00<?, ?it/s]"
     ]
    },
    {
     "name": "stdout",
     "output_type": "stream",
     "text": [
      "train loss: 0.8621, val loss: 0.9262\n",
      "Num epochs since best: 2\n"
     ]
    },
    {
     "name": "stderr",
     "output_type": "stream",
     "text": [
      "100%|██████████| 920/920 [00:07<00:00, 119.50it/s]\n",
      "  0%|          | 0/920 [00:00<?, ?it/s]"
     ]
    },
    {
     "name": "stdout",
     "output_type": "stream",
     "text": [
      "train loss: 0.8598, val loss: 0.9173\n",
      "Num epochs since best: 3\n"
     ]
    },
    {
     "name": "stderr",
     "output_type": "stream",
     "text": [
      "100%|██████████| 920/920 [00:07<00:00, 120.33it/s]\n",
      "  0%|          | 0/920 [00:00<?, ?it/s]"
     ]
    },
    {
     "name": "stdout",
     "output_type": "stream",
     "text": [
      "train loss: 0.8533, val loss: 0.9185\n",
      "Num epochs since best: 4\n"
     ]
    },
    {
     "name": "stderr",
     "output_type": "stream",
     "text": [
      "100%|██████████| 920/920 [00:07<00:00, 120.43it/s]\n",
      "  0%|          | 0/920 [00:00<?, ?it/s]"
     ]
    },
    {
     "name": "stdout",
     "output_type": "stream",
     "text": [
      "train loss: 0.8438, val loss: 0.9196\n",
      "Num epochs since best: 1\n"
     ]
    },
    {
     "name": "stderr",
     "output_type": "stream",
     "text": [
      "100%|██████████| 920/920 [00:07<00:00, 120.31it/s]\n",
      "  0%|          | 0/920 [00:00<?, ?it/s]"
     ]
    },
    {
     "name": "stdout",
     "output_type": "stream",
     "text": [
      "train loss: 0.8387, val loss: 0.9331\n",
      "Num epochs since best: 2\n"
     ]
    },
    {
     "name": "stderr",
     "output_type": "stream",
     "text": [
      "100%|██████████| 920/920 [00:07<00:00, 119.84it/s]\n",
      "  0%|          | 0/920 [00:00<?, ?it/s]"
     ]
    },
    {
     "name": "stdout",
     "output_type": "stream",
     "text": [
      "train loss: 0.8372, val loss: 0.9086\n",
      "Num epochs since best: 1\n"
     ]
    },
    {
     "name": "stderr",
     "output_type": "stream",
     "text": [
      "100%|██████████| 920/920 [00:07<00:00, 119.83it/s]\n",
      "  0%|          | 0/920 [00:00<?, ?it/s]"
     ]
    },
    {
     "name": "stdout",
     "output_type": "stream",
     "text": [
      "train loss: 0.8387, val loss: 0.9130\n",
      "Num epochs since best: 2\n"
     ]
    },
    {
     "name": "stderr",
     "output_type": "stream",
     "text": [
      "100%|██████████| 920/920 [00:07<00:00, 120.23it/s]\n",
      "  0%|          | 0/920 [00:00<?, ?it/s]"
     ]
    },
    {
     "name": "stdout",
     "output_type": "stream",
     "text": [
      "train loss: 0.8248, val loss: 0.9521\n",
      "Num epochs since best: 3\n"
     ]
    },
    {
     "name": "stderr",
     "output_type": "stream",
     "text": [
      "100%|██████████| 920/920 [00:07<00:00, 119.82it/s]\n",
      "  0%|          | 0/920 [00:00<?, ?it/s]"
     ]
    },
    {
     "name": "stdout",
     "output_type": "stream",
     "text": [
      "train loss: 0.8345, val loss: 0.9106\n",
      "Num epochs since best: 1\n"
     ]
    },
    {
     "name": "stderr",
     "output_type": "stream",
     "text": [
      "100%|██████████| 920/920 [00:07<00:00, 120.82it/s]\n",
      "  0%|          | 0/920 [00:00<?, ?it/s]"
     ]
    },
    {
     "name": "stdout",
     "output_type": "stream",
     "text": [
      "train loss: 0.8277, val loss: 0.9217\n",
      "Num epochs since best: 2\n"
     ]
    },
    {
     "name": "stderr",
     "output_type": "stream",
     "text": [
      "100%|██████████| 920/920 [00:07<00:00, 121.36it/s]\n",
      "  0%|          | 0/920 [00:00<?, ?it/s]"
     ]
    },
    {
     "name": "stdout",
     "output_type": "stream",
     "text": [
      "train loss: 0.8230, val loss: 0.9351\n",
      "Num epochs since best: 3\n"
     ]
    },
    {
     "name": "stderr",
     "output_type": "stream",
     "text": [
      "100%|██████████| 920/920 [00:07<00:00, 120.40it/s]\n",
      "  0%|          | 0/920 [00:00<?, ?it/s]"
     ]
    },
    {
     "name": "stdout",
     "output_type": "stream",
     "text": [
      "train loss: 0.8112, val loss: 0.9073\n",
      "Num epochs since best: 1\n"
     ]
    },
    {
     "name": "stderr",
     "output_type": "stream",
     "text": [
      "100%|██████████| 920/920 [00:07<00:00, 120.36it/s]\n",
      "  0%|          | 0/920 [00:00<?, ?it/s]"
     ]
    },
    {
     "name": "stdout",
     "output_type": "stream",
     "text": [
      "train loss: 0.8121, val loss: 0.9106\n",
      "Num epochs since best: 2\n"
     ]
    },
    {
     "name": "stderr",
     "output_type": "stream",
     "text": [
      "100%|██████████| 920/920 [00:07<00:00, 119.48it/s]\n",
      "  0%|          | 0/920 [00:00<?, ?it/s]"
     ]
    },
    {
     "name": "stdout",
     "output_type": "stream",
     "text": [
      "train loss: 0.8083, val loss: 0.9272\n",
      "Num epochs since best: 3\n"
     ]
    },
    {
     "name": "stderr",
     "output_type": "stream",
     "text": [
      "100%|██████████| 920/920 [00:07<00:00, 117.17it/s]\n",
      "  0%|          | 0/920 [00:00<?, ?it/s]"
     ]
    },
    {
     "name": "stdout",
     "output_type": "stream",
     "text": [
      "train loss: 0.8094, val loss: 0.9164\n",
      "Num epochs since best: 4\n"
     ]
    },
    {
     "name": "stderr",
     "output_type": "stream",
     "text": [
      "100%|██████████| 920/920 [00:09<00:00, 92.21it/s] \n",
      "  0%|          | 0/920 [00:00<?, ?it/s]"
     ]
    },
    {
     "name": "stdout",
     "output_type": "stream",
     "text": [
      "train loss: 0.8087, val loss: 0.9119\n",
      "Num epochs since best: 5\n"
     ]
    },
    {
     "name": "stderr",
     "output_type": "stream",
     "text": [
      "100%|██████████| 920/920 [00:08<00:00, 104.54it/s]\n",
      "  0%|          | 0/920 [00:00<?, ?it/s]"
     ]
    },
    {
     "name": "stdout",
     "output_type": "stream",
     "text": [
      "train loss: 0.8046, val loss: 0.9248\n",
      "Num epochs since best: 6\n"
     ]
    },
    {
     "name": "stderr",
     "output_type": "stream",
     "text": [
      "100%|██████████| 920/920 [00:08<00:00, 110.42it/s]\n",
      "  0%|          | 0/920 [00:00<?, ?it/s]"
     ]
    },
    {
     "name": "stdout",
     "output_type": "stream",
     "text": [
      "train loss: 0.7970, val loss: 0.9341\n",
      "Num epochs since best: 7\n"
     ]
    },
    {
     "name": "stderr",
     "output_type": "stream",
     "text": [
      "100%|██████████| 920/920 [00:09<00:00, 95.21it/s] \n",
      "  0%|          | 0/920 [00:00<?, ?it/s]"
     ]
    },
    {
     "name": "stdout",
     "output_type": "stream",
     "text": [
      "train loss: 0.8019, val loss: 0.9280\n",
      "Num epochs since best: 8\n"
     ]
    },
    {
     "name": "stderr",
     "output_type": "stream",
     "text": [
      "100%|██████████| 920/920 [00:11<00:00, 80.39it/s] \n",
      "  0%|          | 0/920 [00:00<?, ?it/s]"
     ]
    },
    {
     "name": "stdout",
     "output_type": "stream",
     "text": [
      "train loss: 0.8022, val loss: 0.9372\n",
      "Num epochs since best: 9\n"
     ]
    },
    {
     "name": "stderr",
     "output_type": "stream",
     "text": [
      "100%|██████████| 920/920 [00:07<00:00, 121.43it/s]\n",
      "  0%|          | 0/920 [00:00<?, ?it/s]"
     ]
    },
    {
     "name": "stdout",
     "output_type": "stream",
     "text": [
      "train loss: 0.7965, val loss: 0.9364\n",
      "Num epochs since best: 10\n"
     ]
    },
    {
     "name": "stderr",
     "output_type": "stream",
     "text": [
      "100%|██████████| 920/920 [00:11<00:00, 80.92it/s] \n",
      "  0%|          | 0/920 [00:00<?, ?it/s]"
     ]
    },
    {
     "name": "stdout",
     "output_type": "stream",
     "text": [
      "train loss: 0.7971, val loss: 0.9421\n",
      "Num epochs since best: 11\n"
     ]
    },
    {
     "name": "stderr",
     "output_type": "stream",
     "text": [
      "100%|██████████| 920/920 [00:08<00:00, 109.91it/s]\n",
      "  0%|          | 0/920 [00:00<?, ?it/s]"
     ]
    },
    {
     "name": "stdout",
     "output_type": "stream",
     "text": [
      "train loss: 0.7940, val loss: 0.9061\n",
      "Num epochs since best: 12\n"
     ]
    },
    {
     "name": "stderr",
     "output_type": "stream",
     "text": [
      "100%|██████████| 920/920 [00:08<00:00, 110.77it/s]\n",
      "  0%|          | 0/920 [00:00<?, ?it/s]"
     ]
    },
    {
     "name": "stdout",
     "output_type": "stream",
     "text": [
      "train loss: 0.7905, val loss: 0.9289\n",
      "Num epochs since best: 13\n"
     ]
    },
    {
     "name": "stderr",
     "output_type": "stream",
     "text": [
      "100%|██████████| 920/920 [00:07<00:00, 120.91it/s]\n",
      "  0%|          | 0/920 [00:00<?, ?it/s]"
     ]
    },
    {
     "name": "stdout",
     "output_type": "stream",
     "text": [
      "train loss: 0.7852, val loss: 0.9407\n",
      "Num epochs since best: 14\n"
     ]
    },
    {
     "name": "stderr",
     "output_type": "stream",
     "text": [
      "100%|██████████| 920/920 [00:07<00:00, 120.22it/s]\n",
      "  0%|          | 0/920 [00:00<?, ?it/s]"
     ]
    },
    {
     "name": "stdout",
     "output_type": "stream",
     "text": [
      "train loss: 0.7874, val loss: 0.9066\n",
      "Num epochs since best: 15\n"
     ]
    },
    {
     "name": "stderr",
     "output_type": "stream",
     "text": [
      "100%|██████████| 920/920 [00:07<00:00, 119.62it/s]\n",
      "  0%|          | 0/920 [00:00<?, ?it/s]"
     ]
    },
    {
     "name": "stdout",
     "output_type": "stream",
     "text": [
      "train loss: 0.7821, val loss: 0.9150\n",
      "Num epochs since best: 16\n"
     ]
    },
    {
     "name": "stderr",
     "output_type": "stream",
     "text": [
      "100%|██████████| 920/920 [00:07<00:00, 118.48it/s]\n",
      "  0%|          | 0/920 [00:00<?, ?it/s]"
     ]
    },
    {
     "name": "stdout",
     "output_type": "stream",
     "text": [
      "train loss: 0.7840, val loss: 0.9087\n",
      "Num epochs since best: 17\n"
     ]
    },
    {
     "name": "stderr",
     "output_type": "stream",
     "text": [
      "100%|██████████| 920/920 [00:07<00:00, 119.76it/s]\n",
      "  0%|          | 0/920 [00:00<?, ?it/s]"
     ]
    },
    {
     "name": "stdout",
     "output_type": "stream",
     "text": [
      "train loss: 0.7824, val loss: 0.9291\n",
      "Num epochs since best: 18\n"
     ]
    },
    {
     "name": "stderr",
     "output_type": "stream",
     "text": [
      "100%|██████████| 920/920 [00:07<00:00, 120.00it/s]\n",
      "  0%|          | 0/920 [00:00<?, ?it/s]"
     ]
    },
    {
     "name": "stdout",
     "output_type": "stream",
     "text": [
      "train loss: 0.7853, val loss: 0.9316\n",
      "Num epochs since best: 19\n"
     ]
    },
    {
     "name": "stderr",
     "output_type": "stream",
     "text": [
      "100%|██████████| 920/920 [00:07<00:00, 120.61it/s]\n",
      "  0%|          | 0/920 [00:00<?, ?it/s]"
     ]
    },
    {
     "name": "stdout",
     "output_type": "stream",
     "text": [
      "train loss: 0.7868, val loss: 0.9211\n",
      "Num epochs since best: 20\n"
     ]
    },
    {
     "name": "stderr",
     "output_type": "stream",
     "text": [
      "100%|██████████| 920/920 [00:07<00:00, 118.70it/s]\n",
      "  0%|          | 0/920 [00:00<?, ?it/s]"
     ]
    },
    {
     "name": "stdout",
     "output_type": "stream",
     "text": [
      "train loss: 0.7826, val loss: 0.9144\n",
      "Num epochs since best: 21\n"
     ]
    },
    {
     "name": "stderr",
     "output_type": "stream",
     "text": [
      "100%|██████████| 920/920 [00:07<00:00, 119.53it/s]\n",
      "  0%|          | 0/920 [00:00<?, ?it/s]"
     ]
    },
    {
     "name": "stdout",
     "output_type": "stream",
     "text": [
      "train loss: 0.7736, val loss: 0.9188\n",
      "Num epochs since best: 22\n"
     ]
    },
    {
     "name": "stderr",
     "output_type": "stream",
     "text": [
      "100%|██████████| 920/920 [00:07<00:00, 119.48it/s]\n",
      "  0%|          | 0/920 [00:00<?, ?it/s]"
     ]
    },
    {
     "name": "stdout",
     "output_type": "stream",
     "text": [
      "train loss: 0.7736, val loss: 0.9151\n",
      "Num epochs since best: 23\n"
     ]
    },
    {
     "name": "stderr",
     "output_type": "stream",
     "text": [
      "100%|██████████| 920/920 [00:07<00:00, 118.59it/s]\n",
      "  0%|          | 0/920 [00:00<?, ?it/s]"
     ]
    },
    {
     "name": "stdout",
     "output_type": "stream",
     "text": [
      "train loss: 0.7734, val loss: 0.9131\n",
      "Num epochs since best: 24\n"
     ]
    },
    {
     "name": "stderr",
     "output_type": "stream",
     "text": [
      "100%|██████████| 920/920 [00:07<00:00, 121.62it/s]\n",
      "  0%|          | 0/920 [00:00<?, ?it/s]"
     ]
    },
    {
     "name": "stdout",
     "output_type": "stream",
     "text": [
      "train loss: 0.7786, val loss: 0.9233\n",
      "Num epochs since best: 25\n"
     ]
    },
    {
     "name": "stderr",
     "output_type": "stream",
     "text": [
      "100%|██████████| 920/920 [00:07<00:00, 120.82it/s]\n",
      "  0%|          | 0/920 [00:00<?, ?it/s]"
     ]
    },
    {
     "name": "stdout",
     "output_type": "stream",
     "text": [
      "train loss: 0.7679, val loss: 0.9063\n",
      "Num epochs since best: 26\n"
     ]
    },
    {
     "name": "stderr",
     "output_type": "stream",
     "text": [
      "100%|██████████| 920/920 [00:07<00:00, 119.86it/s]\n",
      "  0%|          | 0/920 [00:00<?, ?it/s]"
     ]
    },
    {
     "name": "stdout",
     "output_type": "stream",
     "text": [
      "train loss: 0.7704, val loss: 0.8987\n",
      "Num epochs since best: 1\n"
     ]
    },
    {
     "name": "stderr",
     "output_type": "stream",
     "text": [
      "100%|██████████| 920/920 [00:07<00:00, 120.19it/s]\n",
      "  0%|          | 0/920 [00:00<?, ?it/s]"
     ]
    },
    {
     "name": "stdout",
     "output_type": "stream",
     "text": [
      "train loss: 0.7627, val loss: 0.9752\n",
      "Num epochs since best: 2\n"
     ]
    },
    {
     "name": "stderr",
     "output_type": "stream",
     "text": [
      "100%|██████████| 920/920 [00:07<00:00, 119.31it/s]\n",
      "  0%|          | 0/920 [00:00<?, ?it/s]"
     ]
    },
    {
     "name": "stdout",
     "output_type": "stream",
     "text": [
      "train loss: 0.7661, val loss: 0.9422\n",
      "Num epochs since best: 3\n"
     ]
    },
    {
     "name": "stderr",
     "output_type": "stream",
     "text": [
      "100%|██████████| 920/920 [00:07<00:00, 121.21it/s]\n",
      "  0%|          | 0/920 [00:00<?, ?it/s]"
     ]
    },
    {
     "name": "stdout",
     "output_type": "stream",
     "text": [
      "train loss: 0.7553, val loss: 0.9935\n",
      "Num epochs since best: 4\n"
     ]
    },
    {
     "name": "stderr",
     "output_type": "stream",
     "text": [
      "100%|██████████| 920/920 [00:07<00:00, 120.43it/s]\n",
      "  0%|          | 0/920 [00:00<?, ?it/s]"
     ]
    },
    {
     "name": "stdout",
     "output_type": "stream",
     "text": [
      "train loss: 0.7675, val loss: 0.9235\n",
      "Num epochs since best: 5\n"
     ]
    },
    {
     "name": "stderr",
     "output_type": "stream",
     "text": [
      "100%|██████████| 920/920 [00:07<00:00, 119.99it/s]\n",
      "  0%|          | 0/920 [00:00<?, ?it/s]"
     ]
    },
    {
     "name": "stdout",
     "output_type": "stream",
     "text": [
      "train loss: 0.7617, val loss: 0.9059\n",
      "Num epochs since best: 1\n"
     ]
    },
    {
     "name": "stderr",
     "output_type": "stream",
     "text": [
      "100%|██████████| 920/920 [00:07<00:00, 118.54it/s]\n",
      "  0%|          | 0/920 [00:00<?, ?it/s]"
     ]
    },
    {
     "name": "stdout",
     "output_type": "stream",
     "text": [
      "train loss: 0.7578, val loss: 0.9227\n",
      "Num epochs since best: 2\n"
     ]
    },
    {
     "name": "stderr",
     "output_type": "stream",
     "text": [
      "100%|██████████| 920/920 [00:07<00:00, 119.40it/s]\n",
      "  0%|          | 0/920 [00:00<?, ?it/s]"
     ]
    },
    {
     "name": "stdout",
     "output_type": "stream",
     "text": [
      "train loss: 0.7569, val loss: 0.9292\n",
      "Num epochs since best: 3\n"
     ]
    },
    {
     "name": "stderr",
     "output_type": "stream",
     "text": [
      "100%|██████████| 920/920 [00:07<00:00, 120.51it/s]\n",
      "  0%|          | 0/920 [00:00<?, ?it/s]"
     ]
    },
    {
     "name": "stdout",
     "output_type": "stream",
     "text": [
      "train loss: 0.7557, val loss: 0.9244\n",
      "Num epochs since best: 4\n"
     ]
    },
    {
     "name": "stderr",
     "output_type": "stream",
     "text": [
      "100%|██████████| 920/920 [00:07<00:00, 120.03it/s]\n",
      "  0%|          | 0/920 [00:00<?, ?it/s]"
     ]
    },
    {
     "name": "stdout",
     "output_type": "stream",
     "text": [
      "train loss: 0.7537, val loss: 0.9409\n",
      "Num epochs since best: 5\n"
     ]
    },
    {
     "name": "stderr",
     "output_type": "stream",
     "text": [
      "100%|██████████| 920/920 [00:07<00:00, 119.54it/s]\n",
      "  0%|          | 0/920 [00:00<?, ?it/s]"
     ]
    },
    {
     "name": "stdout",
     "output_type": "stream",
     "text": [
      "train loss: 0.7555, val loss: 0.9532\n",
      "Num epochs since best: 6\n"
     ]
    },
    {
     "name": "stderr",
     "output_type": "stream",
     "text": [
      "100%|██████████| 920/920 [00:07<00:00, 119.86it/s]\n",
      "  0%|          | 0/920 [00:00<?, ?it/s]"
     ]
    },
    {
     "name": "stdout",
     "output_type": "stream",
     "text": [
      "train loss: 0.7536, val loss: 0.9808\n",
      "Num epochs since best: 7\n"
     ]
    },
    {
     "name": "stderr",
     "output_type": "stream",
     "text": [
      "100%|██████████| 920/920 [00:07<00:00, 119.51it/s]\n",
      "  0%|          | 0/920 [00:00<?, ?it/s]"
     ]
    },
    {
     "name": "stdout",
     "output_type": "stream",
     "text": [
      "train loss: 0.7554, val loss: 0.9361\n",
      "Num epochs since best: 8\n"
     ]
    },
    {
     "name": "stderr",
     "output_type": "stream",
     "text": [
      "100%|██████████| 920/920 [00:07<00:00, 119.56it/s]\n",
      "  0%|          | 0/920 [00:00<?, ?it/s]"
     ]
    },
    {
     "name": "stdout",
     "output_type": "stream",
     "text": [
      "train loss: 0.7474, val loss: 0.9439\n",
      "Num epochs since best: 9\n"
     ]
    },
    {
     "name": "stderr",
     "output_type": "stream",
     "text": [
      "100%|██████████| 920/920 [00:07<00:00, 119.73it/s]\n",
      "  0%|          | 0/920 [00:00<?, ?it/s]"
     ]
    },
    {
     "name": "stdout",
     "output_type": "stream",
     "text": [
      "train loss: 0.7491, val loss: 0.9099\n",
      "Num epochs since best: 10\n"
     ]
    },
    {
     "name": "stderr",
     "output_type": "stream",
     "text": [
      "100%|██████████| 920/920 [00:07<00:00, 120.85it/s]\n",
      "  0%|          | 0/920 [00:00<?, ?it/s]"
     ]
    },
    {
     "name": "stdout",
     "output_type": "stream",
     "text": [
      "train loss: 0.7452, val loss: 0.9636\n",
      "Num epochs since best: 11\n"
     ]
    },
    {
     "name": "stderr",
     "output_type": "stream",
     "text": [
      "100%|██████████| 920/920 [00:07<00:00, 121.42it/s]\n",
      "  0%|          | 0/920 [00:00<?, ?it/s]"
     ]
    },
    {
     "name": "stdout",
     "output_type": "stream",
     "text": [
      "train loss: 0.7519, val loss: 0.8994\n",
      "Num epochs since best: 1\n"
     ]
    },
    {
     "name": "stderr",
     "output_type": "stream",
     "text": [
      "100%|██████████| 920/920 [00:07<00:00, 120.60it/s]\n",
      "  0%|          | 0/920 [00:00<?, ?it/s]"
     ]
    },
    {
     "name": "stdout",
     "output_type": "stream",
     "text": [
      "train loss: 0.7502, val loss: 0.9077\n",
      "Num epochs since best: 1\n"
     ]
    },
    {
     "name": "stderr",
     "output_type": "stream",
     "text": [
      "100%|██████████| 920/920 [00:07<00:00, 119.15it/s]\n",
      "  0%|          | 0/920 [00:00<?, ?it/s]"
     ]
    },
    {
     "name": "stdout",
     "output_type": "stream",
     "text": [
      "train loss: 0.7442, val loss: 0.9478\n",
      "Num epochs since best: 2\n"
     ]
    },
    {
     "name": "stderr",
     "output_type": "stream",
     "text": [
      "100%|██████████| 920/920 [00:07<00:00, 119.06it/s]\n",
      "  0%|          | 0/920 [00:00<?, ?it/s]"
     ]
    },
    {
     "name": "stdout",
     "output_type": "stream",
     "text": [
      "train loss: 0.7426, val loss: 0.9394\n",
      "Num epochs since best: 3\n"
     ]
    },
    {
     "name": "stderr",
     "output_type": "stream",
     "text": [
      "100%|██████████| 920/920 [00:07<00:00, 120.90it/s]\n",
      "  0%|          | 0/920 [00:00<?, ?it/s]"
     ]
    },
    {
     "name": "stdout",
     "output_type": "stream",
     "text": [
      "train loss: 0.7485, val loss: 0.9180\n",
      "Num epochs since best: 4\n"
     ]
    },
    {
     "name": "stderr",
     "output_type": "stream",
     "text": [
      "100%|██████████| 920/920 [00:07<00:00, 120.82it/s]\n",
      "  0%|          | 0/920 [00:00<?, ?it/s]"
     ]
    },
    {
     "name": "stdout",
     "output_type": "stream",
     "text": [
      "train loss: 0.7414, val loss: 0.9649\n",
      "Num epochs since best: 5\n"
     ]
    },
    {
     "name": "stderr",
     "output_type": "stream",
     "text": [
      "100%|██████████| 920/920 [00:07<00:00, 119.79it/s]\n",
      "  0%|          | 0/920 [00:00<?, ?it/s]"
     ]
    },
    {
     "name": "stdout",
     "output_type": "stream",
     "text": [
      "train loss: 0.7435, val loss: 0.9320\n",
      "Num epochs since best: 6\n"
     ]
    },
    {
     "name": "stderr",
     "output_type": "stream",
     "text": [
      "100%|██████████| 920/920 [00:07<00:00, 119.20it/s]\n",
      "  0%|          | 0/920 [00:00<?, ?it/s]"
     ]
    },
    {
     "name": "stdout",
     "output_type": "stream",
     "text": [
      "train loss: 0.7467, val loss: 0.9422\n",
      "Num epochs since best: 7\n"
     ]
    },
    {
     "name": "stderr",
     "output_type": "stream",
     "text": [
      "100%|██████████| 920/920 [00:07<00:00, 120.80it/s]\n",
      "  0%|          | 0/920 [00:00<?, ?it/s]"
     ]
    },
    {
     "name": "stdout",
     "output_type": "stream",
     "text": [
      "train loss: 0.7378, val loss: 0.9464\n",
      "Num epochs since best: 8\n"
     ]
    },
    {
     "name": "stderr",
     "output_type": "stream",
     "text": [
      "100%|██████████| 920/920 [00:07<00:00, 120.01it/s]\n",
      "  0%|          | 0/920 [00:00<?, ?it/s]"
     ]
    },
    {
     "name": "stdout",
     "output_type": "stream",
     "text": [
      "train loss: 0.7414, val loss: 0.9270\n",
      "Num epochs since best: 9\n"
     ]
    },
    {
     "name": "stderr",
     "output_type": "stream",
     "text": [
      "100%|██████████| 920/920 [00:07<00:00, 118.95it/s]\n",
      "  0%|          | 0/920 [00:00<?, ?it/s]"
     ]
    },
    {
     "name": "stdout",
     "output_type": "stream",
     "text": [
      "train loss: 0.7382, val loss: 0.9068\n",
      "Num epochs since best: 10\n"
     ]
    },
    {
     "name": "stderr",
     "output_type": "stream",
     "text": [
      "100%|██████████| 920/920 [00:07<00:00, 119.67it/s]\n",
      "  0%|          | 0/920 [00:00<?, ?it/s]"
     ]
    },
    {
     "name": "stdout",
     "output_type": "stream",
     "text": [
      "train loss: 0.7395, val loss: 0.9051\n",
      "Num epochs since best: 11\n"
     ]
    },
    {
     "name": "stderr",
     "output_type": "stream",
     "text": [
      "100%|██████████| 920/920 [00:07<00:00, 119.65it/s]\n",
      "  0%|          | 0/920 [00:00<?, ?it/s]"
     ]
    },
    {
     "name": "stdout",
     "output_type": "stream",
     "text": [
      "train loss: 0.7352, val loss: 0.9371\n",
      "Num epochs since best: 12\n"
     ]
    },
    {
     "name": "stderr",
     "output_type": "stream",
     "text": [
      "100%|██████████| 920/920 [00:07<00:00, 121.55it/s]\n",
      "  0%|          | 0/920 [00:00<?, ?it/s]"
     ]
    },
    {
     "name": "stdout",
     "output_type": "stream",
     "text": [
      "train loss: 0.7320, val loss: 0.9220\n",
      "Num epochs since best: 13\n"
     ]
    },
    {
     "name": "stderr",
     "output_type": "stream",
     "text": [
      "100%|██████████| 920/920 [00:07<00:00, 119.10it/s]\n",
      "  0%|          | 0/920 [00:00<?, ?it/s]"
     ]
    },
    {
     "name": "stdout",
     "output_type": "stream",
     "text": [
      "train loss: 0.7321, val loss: 0.9306\n",
      "Num epochs since best: 14\n"
     ]
    },
    {
     "name": "stderr",
     "output_type": "stream",
     "text": [
      "100%|██████████| 920/920 [00:07<00:00, 119.12it/s]\n",
      "  0%|          | 0/920 [00:00<?, ?it/s]"
     ]
    },
    {
     "name": "stdout",
     "output_type": "stream",
     "text": [
      "train loss: 0.7349, val loss: 0.9394\n",
      "Num epochs since best: 15\n"
     ]
    },
    {
     "name": "stderr",
     "output_type": "stream",
     "text": [
      "100%|██████████| 920/920 [00:07<00:00, 120.18it/s]\n",
      "  0%|          | 0/920 [00:00<?, ?it/s]"
     ]
    },
    {
     "name": "stdout",
     "output_type": "stream",
     "text": [
      "train loss: 0.7291, val loss: 0.9816\n",
      "Num epochs since best: 16\n"
     ]
    },
    {
     "name": "stderr",
     "output_type": "stream",
     "text": [
      "100%|██████████| 920/920 [00:07<00:00, 119.58it/s]\n",
      "  0%|          | 0/920 [00:00<?, ?it/s]"
     ]
    },
    {
     "name": "stdout",
     "output_type": "stream",
     "text": [
      "train loss: 0.7344, val loss: 0.9287\n",
      "Num epochs since best: 17\n"
     ]
    },
    {
     "name": "stderr",
     "output_type": "stream",
     "text": [
      "100%|██████████| 920/920 [00:07<00:00, 120.29it/s]\n",
      "  0%|          | 0/920 [00:00<?, ?it/s]"
     ]
    },
    {
     "name": "stdout",
     "output_type": "stream",
     "text": [
      "train loss: 0.7356, val loss: 0.9158\n",
      "Num epochs since best: 18\n"
     ]
    },
    {
     "name": "stderr",
     "output_type": "stream",
     "text": [
      "100%|██████████| 920/920 [00:07<00:00, 121.05it/s]\n",
      "  0%|          | 0/920 [00:00<?, ?it/s]"
     ]
    },
    {
     "name": "stdout",
     "output_type": "stream",
     "text": [
      "train loss: 0.7312, val loss: 0.9580\n",
      "Num epochs since best: 19\n"
     ]
    },
    {
     "name": "stderr",
     "output_type": "stream",
     "text": [
      "100%|██████████| 920/920 [00:07<00:00, 119.32it/s]\n",
      "  0%|          | 0/920 [00:00<?, ?it/s]"
     ]
    },
    {
     "name": "stdout",
     "output_type": "stream",
     "text": [
      "train loss: 0.7291, val loss: 0.9457\n",
      "Num epochs since best: 20\n"
     ]
    },
    {
     "name": "stderr",
     "output_type": "stream",
     "text": [
      "100%|██████████| 920/920 [00:07<00:00, 120.58it/s]\n",
      "  0%|          | 0/920 [00:00<?, ?it/s]"
     ]
    },
    {
     "name": "stdout",
     "output_type": "stream",
     "text": [
      "train loss: 0.7274, val loss: 0.9578\n",
      "Num epochs since best: 21\n"
     ]
    },
    {
     "name": "stderr",
     "output_type": "stream",
     "text": [
      "100%|██████████| 920/920 [00:07<00:00, 119.46it/s]\n",
      "  0%|          | 0/920 [00:00<?, ?it/s]"
     ]
    },
    {
     "name": "stdout",
     "output_type": "stream",
     "text": [
      "train loss: 0.7356, val loss: 0.9608\n",
      "Num epochs since best: 22\n"
     ]
    },
    {
     "name": "stderr",
     "output_type": "stream",
     "text": [
      "100%|██████████| 920/920 [00:07<00:00, 120.13it/s]\n",
      "  0%|          | 0/920 [00:00<?, ?it/s]"
     ]
    },
    {
     "name": "stdout",
     "output_type": "stream",
     "text": [
      "train loss: 0.7299, val loss: 0.9221\n",
      "Num epochs since best: 23\n"
     ]
    },
    {
     "name": "stderr",
     "output_type": "stream",
     "text": [
      "100%|██████████| 920/920 [00:07<00:00, 118.83it/s]\n",
      "  0%|          | 0/920 [00:00<?, ?it/s]"
     ]
    },
    {
     "name": "stdout",
     "output_type": "stream",
     "text": [
      "train loss: 0.7277, val loss: 0.9119\n",
      "Num epochs since best: 24\n"
     ]
    },
    {
     "name": "stderr",
     "output_type": "stream",
     "text": [
      "100%|██████████| 920/920 [00:07<00:00, 119.49it/s]\n",
      "  0%|          | 0/920 [00:00<?, ?it/s]"
     ]
    },
    {
     "name": "stdout",
     "output_type": "stream",
     "text": [
      "train loss: 0.7305, val loss: 0.9094\n",
      "Num epochs since best: 25\n"
     ]
    },
    {
     "name": "stderr",
     "output_type": "stream",
     "text": [
      "100%|██████████| 920/920 [00:07<00:00, 120.95it/s]\n",
      "  0%|          | 0/920 [00:00<?, ?it/s]"
     ]
    },
    {
     "name": "stdout",
     "output_type": "stream",
     "text": [
      "train loss: 0.7210, val loss: 0.9223\n",
      "Num epochs since best: 26\n"
     ]
    },
    {
     "name": "stderr",
     "output_type": "stream",
     "text": [
      "100%|██████████| 920/920 [00:07<00:00, 119.50it/s]\n",
      "  0%|          | 0/920 [00:00<?, ?it/s]"
     ]
    },
    {
     "name": "stdout",
     "output_type": "stream",
     "text": [
      "train loss: 0.7352, val loss: 0.9275\n",
      "Num epochs since best: 27\n"
     ]
    },
    {
     "name": "stderr",
     "output_type": "stream",
     "text": [
      "100%|██████████| 920/920 [00:07<00:00, 121.08it/s]\n",
      "  0%|          | 0/920 [00:00<?, ?it/s]"
     ]
    },
    {
     "name": "stdout",
     "output_type": "stream",
     "text": [
      "train loss: 0.7220, val loss: 0.9183\n",
      "Num epochs since best: 28\n"
     ]
    },
    {
     "name": "stderr",
     "output_type": "stream",
     "text": [
      "100%|██████████| 920/920 [00:07<00:00, 119.90it/s]\n",
      "  0%|          | 0/920 [00:00<?, ?it/s]"
     ]
    },
    {
     "name": "stdout",
     "output_type": "stream",
     "text": [
      "train loss: 0.7271, val loss: 0.9232\n",
      "Num epochs since best: 29\n"
     ]
    },
    {
     "name": "stderr",
     "output_type": "stream",
     "text": [
      "100%|██████████| 920/920 [00:07<00:00, 120.68it/s]\n",
      "  0%|          | 0/920 [00:00<?, ?it/s]"
     ]
    },
    {
     "name": "stdout",
     "output_type": "stream",
     "text": [
      "train loss: 0.7206, val loss: 0.9138\n",
      "Num epochs since best: 30\n"
     ]
    },
    {
     "name": "stderr",
     "output_type": "stream",
     "text": [
      "100%|██████████| 920/920 [00:07<00:00, 119.01it/s]\n"
     ]
    },
    {
     "name": "stdout",
     "output_type": "stream",
     "text": [
      "train loss: 0.7225, val loss: 0.9165\n",
      "split: 6, OMIC fold:0, CLAM fold: 1\n",
      "Training omics-based classifier\n"
     ]
    },
    {
     "name": "stderr",
     "output_type": "stream",
     "text": [
      "  0%|          | 0/911 [00:00<?, ?it/s]"
     ]
    },
    {
     "name": "stdout",
     "output_type": "stream",
     "text": [
      "Val set AUROC: 0.5232, accuracy: 0.158\n",
      "Num epochs since best: 1\n"
     ]
    },
    {
     "name": "stderr",
     "output_type": "stream",
     "text": [
      "100%|██████████| 911/911 [00:07<00:00, 119.09it/s]\n",
      "  0%|          | 0/911 [00:00<?, ?it/s]"
     ]
    },
    {
     "name": "stdout",
     "output_type": "stream",
     "text": [
      "train loss: 1.0827, val loss: 1.0019\n",
      "Num epochs since best: 1\n"
     ]
    },
    {
     "name": "stderr",
     "output_type": "stream",
     "text": [
      "100%|██████████| 911/911 [00:07<00:00, 120.16it/s]\n",
      "  0%|          | 0/911 [00:00<?, ?it/s]"
     ]
    },
    {
     "name": "stdout",
     "output_type": "stream",
     "text": [
      "train loss: 0.9435, val loss: 1.0008\n",
      "Num epochs since best: 1\n"
     ]
    },
    {
     "name": "stderr",
     "output_type": "stream",
     "text": [
      "100%|██████████| 911/911 [00:07<00:00, 120.18it/s]\n",
      "  0%|          | 0/911 [00:00<?, ?it/s]"
     ]
    },
    {
     "name": "stdout",
     "output_type": "stream",
     "text": [
      "train loss: 0.9139, val loss: 0.9799\n",
      "Num epochs since best: 1\n"
     ]
    },
    {
     "name": "stderr",
     "output_type": "stream",
     "text": [
      "100%|██████████| 911/911 [00:07<00:00, 119.16it/s]\n",
      "  0%|          | 0/911 [00:00<?, ?it/s]"
     ]
    },
    {
     "name": "stdout",
     "output_type": "stream",
     "text": [
      "train loss: 0.8996, val loss: 0.9748\n",
      "Num epochs since best: 1\n"
     ]
    },
    {
     "name": "stderr",
     "output_type": "stream",
     "text": [
      "100%|██████████| 911/911 [00:07<00:00, 119.70it/s]\n",
      "  0%|          | 0/911 [00:00<?, ?it/s]"
     ]
    },
    {
     "name": "stdout",
     "output_type": "stream",
     "text": [
      "train loss: 0.8837, val loss: 1.0116\n",
      "Num epochs since best: 2\n"
     ]
    },
    {
     "name": "stderr",
     "output_type": "stream",
     "text": [
      "100%|██████████| 911/911 [00:07<00:00, 119.20it/s]\n",
      "  0%|          | 0/911 [00:00<?, ?it/s]"
     ]
    },
    {
     "name": "stdout",
     "output_type": "stream",
     "text": [
      "train loss: 0.8758, val loss: 0.9709\n",
      "Num epochs since best: 1\n"
     ]
    },
    {
     "name": "stderr",
     "output_type": "stream",
     "text": [
      "100%|██████████| 911/911 [00:07<00:00, 120.47it/s]\n",
      "  0%|          | 0/911 [00:00<?, ?it/s]"
     ]
    },
    {
     "name": "stdout",
     "output_type": "stream",
     "text": [
      "train loss: 0.8653, val loss: 1.0017\n",
      "Num epochs since best: 2\n"
     ]
    },
    {
     "name": "stderr",
     "output_type": "stream",
     "text": [
      "100%|██████████| 911/911 [00:07<00:00, 119.37it/s]\n",
      "  0%|          | 0/911 [00:00<?, ?it/s]"
     ]
    },
    {
     "name": "stdout",
     "output_type": "stream",
     "text": [
      "train loss: 0.8544, val loss: 0.9751\n",
      "Num epochs since best: 1\n"
     ]
    },
    {
     "name": "stderr",
     "output_type": "stream",
     "text": [
      "100%|██████████| 911/911 [00:07<00:00, 117.61it/s]\n",
      "  0%|          | 0/911 [00:00<?, ?it/s]"
     ]
    },
    {
     "name": "stdout",
     "output_type": "stream",
     "text": [
      "train loss: 0.8515, val loss: 0.9663\n",
      "Num epochs since best: 1\n"
     ]
    },
    {
     "name": "stderr",
     "output_type": "stream",
     "text": [
      "100%|██████████| 911/911 [00:07<00:00, 119.88it/s]\n",
      "  0%|          | 0/911 [00:00<?, ?it/s]"
     ]
    },
    {
     "name": "stdout",
     "output_type": "stream",
     "text": [
      "train loss: 0.8432, val loss: 1.0070\n",
      "Num epochs since best: 2\n"
     ]
    },
    {
     "name": "stderr",
     "output_type": "stream",
     "text": [
      "100%|██████████| 911/911 [00:07<00:00, 118.10it/s]\n",
      "  0%|          | 0/911 [00:00<?, ?it/s]"
     ]
    },
    {
     "name": "stdout",
     "output_type": "stream",
     "text": [
      "train loss: 0.8308, val loss: 0.9802\n",
      "Num epochs since best: 3\n"
     ]
    },
    {
     "name": "stderr",
     "output_type": "stream",
     "text": [
      "100%|██████████| 911/911 [00:08<00:00, 113.72it/s]\n",
      "  0%|          | 0/911 [00:00<?, ?it/s]"
     ]
    },
    {
     "name": "stdout",
     "output_type": "stream",
     "text": [
      "train loss: 0.8313, val loss: 1.0086\n",
      "Num epochs since best: 4\n"
     ]
    },
    {
     "name": "stderr",
     "output_type": "stream",
     "text": [
      "100%|██████████| 911/911 [00:08<00:00, 111.86it/s]\n",
      "  0%|          | 0/911 [00:00<?, ?it/s]"
     ]
    },
    {
     "name": "stdout",
     "output_type": "stream",
     "text": [
      "train loss: 0.8285, val loss: 1.0068\n",
      "Num epochs since best: 5\n"
     ]
    },
    {
     "name": "stderr",
     "output_type": "stream",
     "text": [
      "100%|██████████| 911/911 [00:08<00:00, 110.47it/s]\n",
      "  0%|          | 0/911 [00:00<?, ?it/s]"
     ]
    },
    {
     "name": "stdout",
     "output_type": "stream",
     "text": [
      "train loss: 0.8194, val loss: 0.9631\n",
      "Num epochs since best: 1\n"
     ]
    },
    {
     "name": "stderr",
     "output_type": "stream",
     "text": [
      "100%|██████████| 911/911 [00:08<00:00, 108.95it/s]\n",
      "  0%|          | 0/911 [00:00<?, ?it/s]"
     ]
    },
    {
     "name": "stdout",
     "output_type": "stream",
     "text": [
      "train loss: 0.8246, val loss: 0.9724\n",
      "Num epochs since best: 1\n"
     ]
    },
    {
     "name": "stderr",
     "output_type": "stream",
     "text": [
      "100%|██████████| 911/911 [00:08<00:00, 109.44it/s]\n",
      "  0%|          | 0/911 [00:00<?, ?it/s]"
     ]
    },
    {
     "name": "stdout",
     "output_type": "stream",
     "text": [
      "train loss: 0.8158, val loss: 0.9905\n",
      "Num epochs since best: 2\n"
     ]
    },
    {
     "name": "stderr",
     "output_type": "stream",
     "text": [
      "100%|██████████| 911/911 [00:08<00:00, 109.45it/s]\n",
      "  0%|          | 0/911 [00:00<?, ?it/s]"
     ]
    },
    {
     "name": "stdout",
     "output_type": "stream",
     "text": [
      "train loss: 0.8190, val loss: 0.9803\n",
      "Num epochs since best: 3\n"
     ]
    },
    {
     "name": "stderr",
     "output_type": "stream",
     "text": [
      "100%|██████████| 911/911 [00:08<00:00, 111.72it/s]\n",
      "  0%|          | 0/911 [00:00<?, ?it/s]"
     ]
    },
    {
     "name": "stdout",
     "output_type": "stream",
     "text": [
      "train loss: 0.8147, val loss: 0.9665\n",
      "Num epochs since best: 4\n"
     ]
    },
    {
     "name": "stderr",
     "output_type": "stream",
     "text": [
      "100%|██████████| 911/911 [00:08<00:00, 111.47it/s]\n",
      "  0%|          | 0/911 [00:00<?, ?it/s]"
     ]
    },
    {
     "name": "stdout",
     "output_type": "stream",
     "text": [
      "train loss: 0.8057, val loss: 1.0086\n",
      "Num epochs since best: 5\n"
     ]
    },
    {
     "name": "stderr",
     "output_type": "stream",
     "text": [
      "100%|██████████| 911/911 [00:08<00:00, 111.87it/s]\n",
      "  0%|          | 0/911 [00:00<?, ?it/s]"
     ]
    },
    {
     "name": "stdout",
     "output_type": "stream",
     "text": [
      "train loss: 0.8145, val loss: 0.9794\n",
      "Num epochs since best: 6\n"
     ]
    },
    {
     "name": "stderr",
     "output_type": "stream",
     "text": [
      "100%|██████████| 911/911 [00:08<00:00, 112.23it/s]\n",
      "  0%|          | 0/911 [00:00<?, ?it/s]"
     ]
    },
    {
     "name": "stdout",
     "output_type": "stream",
     "text": [
      "train loss: 0.8001, val loss: 0.9744\n",
      "Num epochs since best: 7\n"
     ]
    },
    {
     "name": "stderr",
     "output_type": "stream",
     "text": [
      "100%|██████████| 911/911 [00:08<00:00, 110.46it/s]\n",
      "  0%|          | 0/911 [00:00<?, ?it/s]"
     ]
    },
    {
     "name": "stdout",
     "output_type": "stream",
     "text": [
      "train loss: 0.7965, val loss: 0.9701\n",
      "Num epochs since best: 8\n"
     ]
    },
    {
     "name": "stderr",
     "output_type": "stream",
     "text": [
      "100%|██████████| 911/911 [00:08<00:00, 110.56it/s]\n",
      "  0%|          | 0/911 [00:00<?, ?it/s]"
     ]
    },
    {
     "name": "stdout",
     "output_type": "stream",
     "text": [
      "train loss: 0.7963, val loss: 0.9927\n",
      "Num epochs since best: 9\n"
     ]
    },
    {
     "name": "stderr",
     "output_type": "stream",
     "text": [
      "100%|██████████| 911/911 [00:08<00:00, 110.00it/s]\n",
      "  0%|          | 0/911 [00:00<?, ?it/s]"
     ]
    },
    {
     "name": "stdout",
     "output_type": "stream",
     "text": [
      "train loss: 0.7955, val loss: 0.9954\n",
      "Num epochs since best: 10\n"
     ]
    },
    {
     "name": "stderr",
     "output_type": "stream",
     "text": [
      "100%|██████████| 911/911 [00:08<00:00, 110.33it/s]\n",
      "  0%|          | 0/911 [00:00<?, ?it/s]"
     ]
    },
    {
     "name": "stdout",
     "output_type": "stream",
     "text": [
      "train loss: 0.7891, val loss: 0.9956\n",
      "Num epochs since best: 11\n"
     ]
    },
    {
     "name": "stderr",
     "output_type": "stream",
     "text": [
      "100%|██████████| 911/911 [00:08<00:00, 110.42it/s]\n",
      "  0%|          | 0/911 [00:00<?, ?it/s]"
     ]
    },
    {
     "name": "stdout",
     "output_type": "stream",
     "text": [
      "train loss: 0.7877, val loss: 0.9986\n",
      "Num epochs since best: 12\n"
     ]
    },
    {
     "name": "stderr",
     "output_type": "stream",
     "text": [
      "100%|██████████| 911/911 [00:08<00:00, 112.82it/s]\n",
      "  0%|          | 0/911 [00:00<?, ?it/s]"
     ]
    },
    {
     "name": "stdout",
     "output_type": "stream",
     "text": [
      "train loss: 0.7859, val loss: 0.9791\n",
      "Num epochs since best: 13\n"
     ]
    },
    {
     "name": "stderr",
     "output_type": "stream",
     "text": [
      "100%|██████████| 911/911 [00:08<00:00, 111.33it/s]\n",
      "  0%|          | 0/911 [00:00<?, ?it/s]"
     ]
    },
    {
     "name": "stdout",
     "output_type": "stream",
     "text": [
      "train loss: 0.7816, val loss: 0.9756\n",
      "Num epochs since best: 14\n"
     ]
    },
    {
     "name": "stderr",
     "output_type": "stream",
     "text": [
      "100%|██████████| 911/911 [00:08<00:00, 108.40it/s]\n",
      "  0%|          | 0/911 [00:00<?, ?it/s]"
     ]
    },
    {
     "name": "stdout",
     "output_type": "stream",
     "text": [
      "train loss: 0.7818, val loss: 1.0164\n",
      "Num epochs since best: 15\n"
     ]
    },
    {
     "name": "stderr",
     "output_type": "stream",
     "text": [
      "100%|██████████| 911/911 [00:08<00:00, 110.43it/s]\n",
      "  0%|          | 0/911 [00:00<?, ?it/s]"
     ]
    },
    {
     "name": "stdout",
     "output_type": "stream",
     "text": [
      "train loss: 0.7807, val loss: 1.0047\n",
      "Num epochs since best: 16\n"
     ]
    },
    {
     "name": "stderr",
     "output_type": "stream",
     "text": [
      "100%|██████████| 911/911 [00:08<00:00, 103.28it/s]\n",
      "  0%|          | 0/911 [00:00<?, ?it/s]"
     ]
    },
    {
     "name": "stdout",
     "output_type": "stream",
     "text": [
      "train loss: 0.7692, val loss: 1.0059\n",
      "Num epochs since best: 17\n"
     ]
    },
    {
     "name": "stderr",
     "output_type": "stream",
     "text": [
      "100%|██████████| 911/911 [00:08<00:00, 103.85it/s]\n",
      "  0%|          | 0/911 [00:00<?, ?it/s]"
     ]
    },
    {
     "name": "stdout",
     "output_type": "stream",
     "text": [
      "train loss: 0.7721, val loss: 0.9809\n",
      "Num epochs since best: 18\n"
     ]
    },
    {
     "name": "stderr",
     "output_type": "stream",
     "text": [
      "100%|██████████| 911/911 [00:08<00:00, 102.26it/s]\n",
      "  0%|          | 0/911 [00:00<?, ?it/s]"
     ]
    },
    {
     "name": "stdout",
     "output_type": "stream",
     "text": [
      "train loss: 0.7706, val loss: 0.9912\n",
      "Num epochs since best: 19\n"
     ]
    },
    {
     "name": "stderr",
     "output_type": "stream",
     "text": [
      "100%|██████████| 911/911 [00:08<00:00, 103.09it/s]\n",
      "  0%|          | 0/911 [00:00<?, ?it/s]"
     ]
    },
    {
     "name": "stdout",
     "output_type": "stream",
     "text": [
      "train loss: 0.7702, val loss: 0.9927\n",
      "Num epochs since best: 20\n"
     ]
    },
    {
     "name": "stderr",
     "output_type": "stream",
     "text": [
      "100%|██████████| 911/911 [00:08<00:00, 102.72it/s]\n",
      "  0%|          | 0/911 [00:00<?, ?it/s]"
     ]
    },
    {
     "name": "stdout",
     "output_type": "stream",
     "text": [
      "train loss: 0.7687, val loss: 1.0154\n",
      "Num epochs since best: 21\n"
     ]
    },
    {
     "name": "stderr",
     "output_type": "stream",
     "text": [
      "100%|██████████| 911/911 [00:08<00:00, 102.54it/s]\n",
      "  0%|          | 0/911 [00:00<?, ?it/s]"
     ]
    },
    {
     "name": "stdout",
     "output_type": "stream",
     "text": [
      "train loss: 0.7642, val loss: 1.0148\n",
      "Num epochs since best: 22\n"
     ]
    },
    {
     "name": "stderr",
     "output_type": "stream",
     "text": [
      "100%|██████████| 911/911 [00:08<00:00, 103.15it/s]\n",
      "  0%|          | 0/911 [00:00<?, ?it/s]"
     ]
    },
    {
     "name": "stdout",
     "output_type": "stream",
     "text": [
      "train loss: 0.7640, val loss: 0.9954\n",
      "Num epochs since best: 23\n"
     ]
    },
    {
     "name": "stderr",
     "output_type": "stream",
     "text": [
      "100%|██████████| 911/911 [00:08<00:00, 102.06it/s]\n",
      "  0%|          | 0/911 [00:00<?, ?it/s]"
     ]
    },
    {
     "name": "stdout",
     "output_type": "stream",
     "text": [
      "train loss: 0.7567, val loss: 0.9850\n",
      "Num epochs since best: 24\n"
     ]
    },
    {
     "name": "stderr",
     "output_type": "stream",
     "text": [
      "100%|██████████| 911/911 [00:08<00:00, 103.53it/s]\n",
      "  0%|          | 0/911 [00:00<?, ?it/s]"
     ]
    },
    {
     "name": "stdout",
     "output_type": "stream",
     "text": [
      "train loss: 0.7638, val loss: 0.9876\n",
      "Num epochs since best: 25\n"
     ]
    },
    {
     "name": "stderr",
     "output_type": "stream",
     "text": [
      "100%|██████████| 911/911 [00:08<00:00, 103.11it/s]\n",
      "  0%|          | 0/911 [00:00<?, ?it/s]"
     ]
    },
    {
     "name": "stdout",
     "output_type": "stream",
     "text": [
      "train loss: 0.7603, val loss: 0.9890\n",
      "Num epochs since best: 26\n"
     ]
    },
    {
     "name": "stderr",
     "output_type": "stream",
     "text": [
      "100%|██████████| 911/911 [00:08<00:00, 102.83it/s]\n",
      "  0%|          | 0/911 [00:00<?, ?it/s]"
     ]
    },
    {
     "name": "stdout",
     "output_type": "stream",
     "text": [
      "train loss: 0.7570, val loss: 1.0246\n",
      "Num epochs since best: 27\n"
     ]
    },
    {
     "name": "stderr",
     "output_type": "stream",
     "text": [
      "100%|██████████| 911/911 [00:08<00:00, 102.24it/s]\n",
      "  0%|          | 0/911 [00:00<?, ?it/s]"
     ]
    },
    {
     "name": "stdout",
     "output_type": "stream",
     "text": [
      "train loss: 0.7539, val loss: 0.9850\n",
      "Num epochs since best: 28\n"
     ]
    },
    {
     "name": "stderr",
     "output_type": "stream",
     "text": [
      "100%|██████████| 911/911 [00:08<00:00, 102.43it/s]\n",
      "  0%|          | 0/911 [00:00<?, ?it/s]"
     ]
    },
    {
     "name": "stdout",
     "output_type": "stream",
     "text": [
      "train loss: 0.7511, val loss: 0.9842\n",
      "Num epochs since best: 29\n"
     ]
    },
    {
     "name": "stderr",
     "output_type": "stream",
     "text": [
      "100%|██████████| 911/911 [00:08<00:00, 103.50it/s]\n",
      "  0%|          | 0/911 [00:00<?, ?it/s]"
     ]
    },
    {
     "name": "stdout",
     "output_type": "stream",
     "text": [
      "train loss: 0.7500, val loss: 0.9831\n",
      "Num epochs since best: 30\n"
     ]
    },
    {
     "name": "stderr",
     "output_type": "stream",
     "text": [
      "100%|██████████| 911/911 [00:08<00:00, 102.16it/s]\n"
     ]
    },
    {
     "name": "stdout",
     "output_type": "stream",
     "text": [
      "train loss: 0.7508, val loss: 0.9980\n",
      "split: 6, OMIC fold:0, CLAM fold: 2\n",
      "Training omics-based classifier\n"
     ]
    },
    {
     "name": "stderr",
     "output_type": "stream",
     "text": [
      "  0%|          | 0/915 [00:00<?, ?it/s]"
     ]
    },
    {
     "name": "stdout",
     "output_type": "stream",
     "text": [
      "Val set AUROC: 0.5671, accuracy: 0.272\n",
      "Num epochs since best: 1\n"
     ]
    },
    {
     "name": "stderr",
     "output_type": "stream",
     "text": [
      "100%|██████████| 915/915 [00:08<00:00, 102.89it/s]\n",
      "  0%|          | 0/915 [00:00<?, ?it/s]"
     ]
    },
    {
     "name": "stdout",
     "output_type": "stream",
     "text": [
      "train loss: 1.0679, val loss: 0.9850\n",
      "Num epochs since best: 1\n"
     ]
    },
    {
     "name": "stderr",
     "output_type": "stream",
     "text": [
      "100%|██████████| 915/915 [00:08<00:00, 108.95it/s]\n",
      "  0%|          | 0/915 [00:00<?, ?it/s]"
     ]
    },
    {
     "name": "stdout",
     "output_type": "stream",
     "text": [
      "train loss: 0.9464, val loss: 0.9751\n",
      "Num epochs since best: 1\n"
     ]
    },
    {
     "name": "stderr",
     "output_type": "stream",
     "text": [
      "100%|██████████| 915/915 [00:08<00:00, 108.59it/s]\n",
      "  0%|          | 0/915 [00:00<?, ?it/s]"
     ]
    },
    {
     "name": "stdout",
     "output_type": "stream",
     "text": [
      "train loss: 0.9109, val loss: 0.9756\n",
      "Num epochs since best: 2\n"
     ]
    },
    {
     "name": "stderr",
     "output_type": "stream",
     "text": [
      "100%|██████████| 915/915 [00:08<00:00, 107.76it/s]\n",
      "  0%|          | 0/915 [00:00<?, ?it/s]"
     ]
    },
    {
     "name": "stdout",
     "output_type": "stream",
     "text": [
      "train loss: 0.8969, val loss: 0.9823\n",
      "Num epochs since best: 1\n"
     ]
    },
    {
     "name": "stderr",
     "output_type": "stream",
     "text": [
      "100%|██████████| 915/915 [00:08<00:00, 108.49it/s]\n",
      "  0%|          | 0/915 [00:00<?, ?it/s]"
     ]
    },
    {
     "name": "stdout",
     "output_type": "stream",
     "text": [
      "train loss: 0.8869, val loss: 0.9529\n",
      "Num epochs since best: 1\n"
     ]
    },
    {
     "name": "stderr",
     "output_type": "stream",
     "text": [
      "100%|██████████| 915/915 [00:08<00:00, 109.19it/s]\n",
      "  0%|          | 0/915 [00:00<?, ?it/s]"
     ]
    },
    {
     "name": "stdout",
     "output_type": "stream",
     "text": [
      "train loss: 0.8808, val loss: 0.9442\n",
      "Num epochs since best: 2\n"
     ]
    },
    {
     "name": "stderr",
     "output_type": "stream",
     "text": [
      "100%|██████████| 915/915 [00:08<00:00, 106.63it/s]\n",
      "  0%|          | 0/915 [00:00<?, ?it/s]"
     ]
    },
    {
     "name": "stdout",
     "output_type": "stream",
     "text": [
      "train loss: 0.8725, val loss: 0.9993\n",
      "Num epochs since best: 3\n"
     ]
    },
    {
     "name": "stderr",
     "output_type": "stream",
     "text": [
      "100%|██████████| 915/915 [00:08<00:00, 102.17it/s]\n",
      "  0%|          | 0/915 [00:00<?, ?it/s]"
     ]
    },
    {
     "name": "stdout",
     "output_type": "stream",
     "text": [
      "train loss: 0.8644, val loss: 0.9442\n",
      "Num epochs since best: 1\n"
     ]
    },
    {
     "name": "stderr",
     "output_type": "stream",
     "text": [
      "100%|██████████| 915/915 [00:10<00:00, 85.01it/s] \n",
      "  0%|          | 0/915 [00:00<?, ?it/s]"
     ]
    },
    {
     "name": "stdout",
     "output_type": "stream",
     "text": [
      "train loss: 0.8545, val loss: 1.0186\n",
      "Num epochs since best: 2\n"
     ]
    },
    {
     "name": "stderr",
     "output_type": "stream",
     "text": [
      "100%|██████████| 915/915 [00:09<00:00, 93.21it/s] \n",
      "  0%|          | 0/915 [00:00<?, ?it/s]"
     ]
    },
    {
     "name": "stdout",
     "output_type": "stream",
     "text": [
      "train loss: 0.8645, val loss: 0.9316\n",
      "Num epochs since best: 3\n"
     ]
    },
    {
     "name": "stderr",
     "output_type": "stream",
     "text": [
      "100%|██████████| 915/915 [00:10<00:00, 85.40it/s] \n",
      "  0%|          | 0/915 [00:00<?, ?it/s]"
     ]
    },
    {
     "name": "stdout",
     "output_type": "stream",
     "text": [
      "train loss: 0.8491, val loss: 0.9517\n",
      "Num epochs since best: 4\n"
     ]
    },
    {
     "name": "stderr",
     "output_type": "stream",
     "text": [
      "100%|██████████| 915/915 [00:11<00:00, 81.01it/s] \n",
      "  0%|          | 0/915 [00:00<?, ?it/s]"
     ]
    },
    {
     "name": "stdout",
     "output_type": "stream",
     "text": [
      "train loss: 0.8385, val loss: 0.9347\n",
      "Num epochs since best: 1\n"
     ]
    },
    {
     "name": "stderr",
     "output_type": "stream",
     "text": [
      "100%|██████████| 915/915 [00:11<00:00, 82.42it/s] \n",
      "  0%|          | 0/915 [00:00<?, ?it/s]"
     ]
    },
    {
     "name": "stdout",
     "output_type": "stream",
     "text": [
      "train loss: 0.8444, val loss: 0.9310\n",
      "Num epochs since best: 1\n"
     ]
    },
    {
     "name": "stderr",
     "output_type": "stream",
     "text": [
      "100%|██████████| 915/915 [00:10<00:00, 84.94it/s] \n",
      "  0%|          | 0/915 [00:00<?, ?it/s]"
     ]
    },
    {
     "name": "stdout",
     "output_type": "stream",
     "text": [
      "train loss: 0.8391, val loss: 0.9224\n",
      "Num epochs since best: 2\n"
     ]
    },
    {
     "name": "stderr",
     "output_type": "stream",
     "text": [
      "100%|██████████| 915/915 [00:09<00:00, 100.90it/s]\n",
      "  0%|          | 0/915 [00:00<?, ?it/s]"
     ]
    },
    {
     "name": "stdout",
     "output_type": "stream",
     "text": [
      "train loss: 0.8341, val loss: 0.9132\n",
      "Num epochs since best: 1\n"
     ]
    },
    {
     "name": "stderr",
     "output_type": "stream",
     "text": [
      "100%|██████████| 915/915 [00:09<00:00, 101.38it/s]\n",
      "  0%|          | 0/915 [00:00<?, ?it/s]"
     ]
    },
    {
     "name": "stdout",
     "output_type": "stream",
     "text": [
      "train loss: 0.8305, val loss: 0.9293\n",
      "Num epochs since best: 2\n"
     ]
    },
    {
     "name": "stderr",
     "output_type": "stream",
     "text": [
      "100%|██████████| 915/915 [00:08<00:00, 106.30it/s]\n",
      "  0%|          | 0/915 [00:00<?, ?it/s]"
     ]
    },
    {
     "name": "stdout",
     "output_type": "stream",
     "text": [
      "train loss: 0.8301, val loss: 0.9611\n",
      "Num epochs since best: 3\n"
     ]
    },
    {
     "name": "stderr",
     "output_type": "stream",
     "text": [
      "100%|██████████| 915/915 [00:08<00:00, 106.14it/s]\n",
      "  0%|          | 0/915 [00:00<?, ?it/s]"
     ]
    },
    {
     "name": "stdout",
     "output_type": "stream",
     "text": [
      "train loss: 0.8214, val loss: 0.9591\n",
      "Num epochs since best: 4\n"
     ]
    },
    {
     "name": "stderr",
     "output_type": "stream",
     "text": [
      "100%|██████████| 915/915 [00:08<00:00, 106.14it/s]\n",
      "  0%|          | 0/915 [00:00<?, ?it/s]"
     ]
    },
    {
     "name": "stdout",
     "output_type": "stream",
     "text": [
      "train loss: 0.8263, val loss: 0.9312\n",
      "Num epochs since best: 5\n"
     ]
    },
    {
     "name": "stderr",
     "output_type": "stream",
     "text": [
      "100%|██████████| 915/915 [00:08<00:00, 106.32it/s]\n",
      "  0%|          | 0/915 [00:00<?, ?it/s]"
     ]
    },
    {
     "name": "stdout",
     "output_type": "stream",
     "text": [
      "train loss: 0.8170, val loss: 0.9242\n",
      "Num epochs since best: 1\n"
     ]
    },
    {
     "name": "stderr",
     "output_type": "stream",
     "text": [
      "100%|██████████| 915/915 [00:08<00:00, 106.81it/s]\n",
      "  0%|          | 0/915 [00:00<?, ?it/s]"
     ]
    },
    {
     "name": "stdout",
     "output_type": "stream",
     "text": [
      "train loss: 0.8142, val loss: 0.9263\n",
      "Num epochs since best: 2\n"
     ]
    },
    {
     "name": "stderr",
     "output_type": "stream",
     "text": [
      "100%|██████████| 915/915 [00:08<00:00, 107.77it/s]\n",
      "  0%|          | 0/915 [00:00<?, ?it/s]"
     ]
    },
    {
     "name": "stdout",
     "output_type": "stream",
     "text": [
      "train loss: 0.8091, val loss: 0.9854\n",
      "Num epochs since best: 3\n"
     ]
    },
    {
     "name": "stderr",
     "output_type": "stream",
     "text": [
      "100%|██████████| 915/915 [00:08<00:00, 107.75it/s]\n",
      "  0%|          | 0/915 [00:00<?, ?it/s]"
     ]
    },
    {
     "name": "stdout",
     "output_type": "stream",
     "text": [
      "train loss: 0.8062, val loss: 0.9764\n",
      "Num epochs since best: 4\n"
     ]
    },
    {
     "name": "stderr",
     "output_type": "stream",
     "text": [
      "100%|██████████| 915/915 [00:08<00:00, 106.59it/s]\n",
      "  0%|          | 0/915 [00:00<?, ?it/s]"
     ]
    },
    {
     "name": "stdout",
     "output_type": "stream",
     "text": [
      "train loss: 0.7994, val loss: 0.9277\n",
      "Num epochs since best: 5\n"
     ]
    },
    {
     "name": "stderr",
     "output_type": "stream",
     "text": [
      "100%|██████████| 915/915 [00:08<00:00, 107.50it/s]\n",
      "  0%|          | 0/915 [00:00<?, ?it/s]"
     ]
    },
    {
     "name": "stdout",
     "output_type": "stream",
     "text": [
      "train loss: 0.8040, val loss: 0.9603\n",
      "Num epochs since best: 6\n"
     ]
    },
    {
     "name": "stderr",
     "output_type": "stream",
     "text": [
      "100%|██████████| 915/915 [00:08<00:00, 107.67it/s]\n",
      "  0%|          | 0/915 [00:00<?, ?it/s]"
     ]
    },
    {
     "name": "stdout",
     "output_type": "stream",
     "text": [
      "train loss: 0.8100, val loss: 0.9319\n",
      "Num epochs since best: 7\n"
     ]
    },
    {
     "name": "stderr",
     "output_type": "stream",
     "text": [
      "100%|██████████| 915/915 [00:08<00:00, 108.45it/s]\n",
      "  0%|          | 0/915 [00:00<?, ?it/s]"
     ]
    },
    {
     "name": "stdout",
     "output_type": "stream",
     "text": [
      "train loss: 0.8016, val loss: 0.9197\n",
      "Num epochs since best: 8\n"
     ]
    },
    {
     "name": "stderr",
     "output_type": "stream",
     "text": [
      "100%|██████████| 915/915 [00:08<00:00, 108.68it/s]\n",
      "  0%|          | 0/915 [00:00<?, ?it/s]"
     ]
    },
    {
     "name": "stdout",
     "output_type": "stream",
     "text": [
      "train loss: 0.8038, val loss: 0.9382\n",
      "Num epochs since best: 9\n"
     ]
    },
    {
     "name": "stderr",
     "output_type": "stream",
     "text": [
      "100%|██████████| 915/915 [00:08<00:00, 107.76it/s]\n",
      "  0%|          | 0/915 [00:00<?, ?it/s]"
     ]
    },
    {
     "name": "stdout",
     "output_type": "stream",
     "text": [
      "train loss: 0.8094, val loss: 0.9316\n",
      "Num epochs since best: 10\n"
     ]
    },
    {
     "name": "stderr",
     "output_type": "stream",
     "text": [
      "100%|██████████| 915/915 [00:08<00:00, 107.33it/s]\n",
      "  0%|          | 0/915 [00:00<?, ?it/s]"
     ]
    },
    {
     "name": "stdout",
     "output_type": "stream",
     "text": [
      "train loss: 0.7982, val loss: 0.9208\n",
      "Num epochs since best: 11\n"
     ]
    },
    {
     "name": "stderr",
     "output_type": "stream",
     "text": [
      "100%|██████████| 915/915 [00:08<00:00, 107.86it/s]\n",
      "  0%|          | 0/915 [00:00<?, ?it/s]"
     ]
    },
    {
     "name": "stdout",
     "output_type": "stream",
     "text": [
      "train loss: 0.7978, val loss: 0.9323\n",
      "Num epochs since best: 12\n"
     ]
    },
    {
     "name": "stderr",
     "output_type": "stream",
     "text": [
      "100%|██████████| 915/915 [00:08<00:00, 107.63it/s]\n",
      "  0%|          | 0/915 [00:00<?, ?it/s]"
     ]
    },
    {
     "name": "stdout",
     "output_type": "stream",
     "text": [
      "train loss: 0.7987, val loss: 0.9437\n",
      "Num epochs since best: 13\n"
     ]
    },
    {
     "name": "stderr",
     "output_type": "stream",
     "text": [
      "100%|██████████| 915/915 [00:08<00:00, 107.68it/s]\n",
      "  0%|          | 0/915 [00:00<?, ?it/s]"
     ]
    },
    {
     "name": "stdout",
     "output_type": "stream",
     "text": [
      "train loss: 0.7937, val loss: 0.9198\n",
      "Num epochs since best: 14\n"
     ]
    },
    {
     "name": "stderr",
     "output_type": "stream",
     "text": [
      "100%|██████████| 915/915 [00:08<00:00, 107.85it/s]\n",
      "  0%|          | 0/915 [00:00<?, ?it/s]"
     ]
    },
    {
     "name": "stdout",
     "output_type": "stream",
     "text": [
      "train loss: 0.7874, val loss: 0.9603\n",
      "Num epochs since best: 15\n"
     ]
    },
    {
     "name": "stderr",
     "output_type": "stream",
     "text": [
      "100%|██████████| 915/915 [00:08<00:00, 106.83it/s]\n",
      "  0%|          | 0/915 [00:00<?, ?it/s]"
     ]
    },
    {
     "name": "stdout",
     "output_type": "stream",
     "text": [
      "train loss: 0.7903, val loss: 0.9344\n",
      "Num epochs since best: 16\n"
     ]
    },
    {
     "name": "stderr",
     "output_type": "stream",
     "text": [
      "100%|██████████| 915/915 [00:08<00:00, 108.48it/s]\n",
      "  0%|          | 0/915 [00:00<?, ?it/s]"
     ]
    },
    {
     "name": "stdout",
     "output_type": "stream",
     "text": [
      "train loss: 0.7854, val loss: 0.9564\n",
      "Num epochs since best: 17\n"
     ]
    },
    {
     "name": "stderr",
     "output_type": "stream",
     "text": [
      "100%|██████████| 915/915 [00:08<00:00, 108.22it/s]\n",
      "  0%|          | 0/915 [00:00<?, ?it/s]"
     ]
    },
    {
     "name": "stdout",
     "output_type": "stream",
     "text": [
      "train loss: 0.7852, val loss: 0.9233\n",
      "Num epochs since best: 18\n"
     ]
    },
    {
     "name": "stderr",
     "output_type": "stream",
     "text": [
      "100%|██████████| 915/915 [00:08<00:00, 108.38it/s]\n",
      "  0%|          | 0/915 [00:00<?, ?it/s]"
     ]
    },
    {
     "name": "stdout",
     "output_type": "stream",
     "text": [
      "train loss: 0.7808, val loss: 0.9292\n",
      "Num epochs since best: 19\n"
     ]
    },
    {
     "name": "stderr",
     "output_type": "stream",
     "text": [
      "100%|██████████| 915/915 [00:08<00:00, 108.05it/s]\n",
      "  0%|          | 0/915 [00:00<?, ?it/s]"
     ]
    },
    {
     "name": "stdout",
     "output_type": "stream",
     "text": [
      "train loss: 0.7863, val loss: 0.9153\n",
      "Num epochs since best: 1\n"
     ]
    },
    {
     "name": "stderr",
     "output_type": "stream",
     "text": [
      "100%|██████████| 915/915 [00:08<00:00, 107.94it/s]\n",
      "  0%|          | 0/915 [00:00<?, ?it/s]"
     ]
    },
    {
     "name": "stdout",
     "output_type": "stream",
     "text": [
      "train loss: 0.7807, val loss: 0.9308\n",
      "Num epochs since best: 2\n"
     ]
    },
    {
     "name": "stderr",
     "output_type": "stream",
     "text": [
      "100%|██████████| 915/915 [00:08<00:00, 107.92it/s]\n",
      "  0%|          | 0/915 [00:00<?, ?it/s]"
     ]
    },
    {
     "name": "stdout",
     "output_type": "stream",
     "text": [
      "train loss: 0.7763, val loss: 0.9665\n",
      "Num epochs since best: 3\n"
     ]
    },
    {
     "name": "stderr",
     "output_type": "stream",
     "text": [
      "100%|██████████| 915/915 [00:08<00:00, 108.75it/s]\n",
      "  0%|          | 0/915 [00:00<?, ?it/s]"
     ]
    },
    {
     "name": "stdout",
     "output_type": "stream",
     "text": [
      "train loss: 0.7805, val loss: 0.9266\n",
      "Num epochs since best: 4\n"
     ]
    },
    {
     "name": "stderr",
     "output_type": "stream",
     "text": [
      "100%|██████████| 915/915 [00:08<00:00, 107.90it/s]\n",
      "  0%|          | 0/915 [00:00<?, ?it/s]"
     ]
    },
    {
     "name": "stdout",
     "output_type": "stream",
     "text": [
      "train loss: 0.7806, val loss: 0.9303\n",
      "Num epochs since best: 5\n"
     ]
    },
    {
     "name": "stderr",
     "output_type": "stream",
     "text": [
      "100%|██████████| 915/915 [00:08<00:00, 107.70it/s]\n",
      "  0%|          | 0/915 [00:00<?, ?it/s]"
     ]
    },
    {
     "name": "stdout",
     "output_type": "stream",
     "text": [
      "train loss: 0.7742, val loss: 0.9588\n",
      "Num epochs since best: 6\n"
     ]
    },
    {
     "name": "stderr",
     "output_type": "stream",
     "text": [
      "100%|██████████| 915/915 [00:08<00:00, 107.82it/s]\n",
      "  0%|          | 0/915 [00:00<?, ?it/s]"
     ]
    },
    {
     "name": "stdout",
     "output_type": "stream",
     "text": [
      "train loss: 0.7710, val loss: 0.9595\n",
      "Num epochs since best: 7\n"
     ]
    },
    {
     "name": "stderr",
     "output_type": "stream",
     "text": [
      "100%|██████████| 915/915 [00:08<00:00, 108.82it/s]\n",
      "  0%|          | 0/915 [00:00<?, ?it/s]"
     ]
    },
    {
     "name": "stdout",
     "output_type": "stream",
     "text": [
      "train loss: 0.7763, val loss: 0.9334\n",
      "Num epochs since best: 8\n"
     ]
    },
    {
     "name": "stderr",
     "output_type": "stream",
     "text": [
      "100%|██████████| 915/915 [00:08<00:00, 107.19it/s]\n",
      "  0%|          | 0/915 [00:00<?, ?it/s]"
     ]
    },
    {
     "name": "stdout",
     "output_type": "stream",
     "text": [
      "train loss: 0.7760, val loss: 0.9235\n",
      "Num epochs since best: 9\n"
     ]
    },
    {
     "name": "stderr",
     "output_type": "stream",
     "text": [
      "100%|██████████| 915/915 [00:08<00:00, 107.83it/s]\n",
      "  0%|          | 0/915 [00:00<?, ?it/s]"
     ]
    },
    {
     "name": "stdout",
     "output_type": "stream",
     "text": [
      "train loss: 0.7729, val loss: 0.9273\n",
      "Num epochs since best: 10\n"
     ]
    },
    {
     "name": "stderr",
     "output_type": "stream",
     "text": [
      "100%|██████████| 915/915 [00:08<00:00, 107.44it/s]\n",
      "  0%|          | 0/915 [00:00<?, ?it/s]"
     ]
    },
    {
     "name": "stdout",
     "output_type": "stream",
     "text": [
      "train loss: 0.7723, val loss: 0.9317\n",
      "Num epochs since best: 11\n"
     ]
    },
    {
     "name": "stderr",
     "output_type": "stream",
     "text": [
      "100%|██████████| 915/915 [00:08<00:00, 107.87it/s]\n",
      "  0%|          | 0/915 [00:00<?, ?it/s]"
     ]
    },
    {
     "name": "stdout",
     "output_type": "stream",
     "text": [
      "train loss: 0.7709, val loss: 0.9284\n",
      "Num epochs since best: 12\n"
     ]
    },
    {
     "name": "stderr",
     "output_type": "stream",
     "text": [
      "100%|██████████| 915/915 [00:08<00:00, 108.45it/s]\n",
      "  0%|          | 0/915 [00:00<?, ?it/s]"
     ]
    },
    {
     "name": "stdout",
     "output_type": "stream",
     "text": [
      "train loss: 0.7670, val loss: 0.9390\n",
      "Num epochs since best: 13\n"
     ]
    },
    {
     "name": "stderr",
     "output_type": "stream",
     "text": [
      "100%|██████████| 915/915 [00:08<00:00, 107.74it/s]\n",
      "  0%|          | 0/915 [00:00<?, ?it/s]"
     ]
    },
    {
     "name": "stdout",
     "output_type": "stream",
     "text": [
      "train loss: 0.7630, val loss: 0.9245\n",
      "Num epochs since best: 14\n"
     ]
    },
    {
     "name": "stderr",
     "output_type": "stream",
     "text": [
      "100%|██████████| 915/915 [00:08<00:00, 107.79it/s]\n",
      "  0%|          | 0/915 [00:00<?, ?it/s]"
     ]
    },
    {
     "name": "stdout",
     "output_type": "stream",
     "text": [
      "train loss: 0.7600, val loss: 0.9243\n",
      "Num epochs since best: 15\n"
     ]
    },
    {
     "name": "stderr",
     "output_type": "stream",
     "text": [
      "100%|██████████| 915/915 [00:07<00:00, 118.31it/s]\n",
      "  0%|          | 0/915 [00:00<?, ?it/s]"
     ]
    },
    {
     "name": "stdout",
     "output_type": "stream",
     "text": [
      "train loss: 0.7626, val loss: 0.9283\n",
      "Num epochs since best: 16\n"
     ]
    },
    {
     "name": "stderr",
     "output_type": "stream",
     "text": [
      "100%|██████████| 915/915 [00:08<00:00, 112.87it/s]\n",
      "  0%|          | 0/915 [00:00<?, ?it/s]"
     ]
    },
    {
     "name": "stdout",
     "output_type": "stream",
     "text": [
      "train loss: 0.7654, val loss: 0.9483\n",
      "Num epochs since best: 17\n"
     ]
    },
    {
     "name": "stderr",
     "output_type": "stream",
     "text": [
      "100%|██████████| 915/915 [00:08<00:00, 112.63it/s]\n",
      "  0%|          | 0/915 [00:00<?, ?it/s]"
     ]
    },
    {
     "name": "stdout",
     "output_type": "stream",
     "text": [
      "train loss: 0.7654, val loss: 0.9213\n",
      "Num epochs since best: 18\n"
     ]
    },
    {
     "name": "stderr",
     "output_type": "stream",
     "text": [
      "100%|██████████| 915/915 [00:08<00:00, 113.55it/s]\n",
      "  0%|          | 0/915 [00:00<?, ?it/s]"
     ]
    },
    {
     "name": "stdout",
     "output_type": "stream",
     "text": [
      "train loss: 0.7601, val loss: 0.9333\n",
      "Num epochs since best: 19\n"
     ]
    },
    {
     "name": "stderr",
     "output_type": "stream",
     "text": [
      "100%|██████████| 915/915 [00:08<00:00, 112.27it/s]\n",
      "  0%|          | 0/915 [00:00<?, ?it/s]"
     ]
    },
    {
     "name": "stdout",
     "output_type": "stream",
     "text": [
      "train loss: 0.7610, val loss: 0.9749\n",
      "Num epochs since best: 20\n"
     ]
    },
    {
     "name": "stderr",
     "output_type": "stream",
     "text": [
      "100%|██████████| 915/915 [00:08<00:00, 112.73it/s]\n",
      "  0%|          | 0/915 [00:00<?, ?it/s]"
     ]
    },
    {
     "name": "stdout",
     "output_type": "stream",
     "text": [
      "train loss: 0.7637, val loss: 0.9254\n",
      "Num epochs since best: 21\n"
     ]
    },
    {
     "name": "stderr",
     "output_type": "stream",
     "text": [
      "100%|██████████| 915/915 [00:08<00:00, 111.66it/s]\n",
      "  0%|          | 0/915 [00:00<?, ?it/s]"
     ]
    },
    {
     "name": "stdout",
     "output_type": "stream",
     "text": [
      "train loss: 0.7559, val loss: 0.9787\n",
      "Num epochs since best: 22\n"
     ]
    },
    {
     "name": "stderr",
     "output_type": "stream",
     "text": [
      "100%|██████████| 915/915 [00:08<00:00, 112.33it/s]\n",
      "  0%|          | 0/915 [00:00<?, ?it/s]"
     ]
    },
    {
     "name": "stdout",
     "output_type": "stream",
     "text": [
      "train loss: 0.7611, val loss: 0.9301\n",
      "Num epochs since best: 23\n"
     ]
    },
    {
     "name": "stderr",
     "output_type": "stream",
     "text": [
      "100%|██████████| 915/915 [00:08<00:00, 112.18it/s]\n",
      "  0%|          | 0/915 [00:00<?, ?it/s]"
     ]
    },
    {
     "name": "stdout",
     "output_type": "stream",
     "text": [
      "train loss: 0.7571, val loss: 0.9463\n",
      "Num epochs since best: 24\n"
     ]
    },
    {
     "name": "stderr",
     "output_type": "stream",
     "text": [
      "100%|██████████| 915/915 [00:08<00:00, 112.90it/s]\n",
      "  0%|          | 0/915 [00:00<?, ?it/s]"
     ]
    },
    {
     "name": "stdout",
     "output_type": "stream",
     "text": [
      "train loss: 0.7530, val loss: 1.0099\n",
      "Num epochs since best: 25\n"
     ]
    },
    {
     "name": "stderr",
     "output_type": "stream",
     "text": [
      "100%|██████████| 915/915 [00:08<00:00, 112.71it/s]\n",
      "  0%|          | 0/915 [00:00<?, ?it/s]"
     ]
    },
    {
     "name": "stdout",
     "output_type": "stream",
     "text": [
      "train loss: 0.7559, val loss: 0.9644\n",
      "Num epochs since best: 26\n"
     ]
    },
    {
     "name": "stderr",
     "output_type": "stream",
     "text": [
      "100%|██████████| 915/915 [00:08<00:00, 111.94it/s]\n",
      "  0%|          | 0/915 [00:00<?, ?it/s]"
     ]
    },
    {
     "name": "stdout",
     "output_type": "stream",
     "text": [
      "train loss: 0.7554, val loss: 0.9352\n",
      "Num epochs since best: 27\n"
     ]
    },
    {
     "name": "stderr",
     "output_type": "stream",
     "text": [
      "100%|██████████| 915/915 [00:08<00:00, 113.58it/s]\n",
      "  0%|          | 0/915 [00:00<?, ?it/s]"
     ]
    },
    {
     "name": "stdout",
     "output_type": "stream",
     "text": [
      "train loss: 0.7564, val loss: 0.9517\n",
      "Num epochs since best: 28\n"
     ]
    },
    {
     "name": "stderr",
     "output_type": "stream",
     "text": [
      "100%|██████████| 915/915 [00:08<00:00, 112.42it/s]\n",
      "  0%|          | 0/915 [00:00<?, ?it/s]"
     ]
    },
    {
     "name": "stdout",
     "output_type": "stream",
     "text": [
      "train loss: 0.7515, val loss: 0.9540\n",
      "Num epochs since best: 29\n"
     ]
    },
    {
     "name": "stderr",
     "output_type": "stream",
     "text": [
      "100%|██████████| 915/915 [00:08<00:00, 113.71it/s]\n",
      "  0%|          | 0/915 [00:00<?, ?it/s]"
     ]
    },
    {
     "name": "stdout",
     "output_type": "stream",
     "text": [
      "train loss: 0.7577, val loss: 0.9283\n",
      "Num epochs since best: 30\n"
     ]
    },
    {
     "name": "stderr",
     "output_type": "stream",
     "text": [
      "100%|██████████| 915/915 [00:08<00:00, 111.24it/s]\n"
     ]
    },
    {
     "name": "stdout",
     "output_type": "stream",
     "text": [
      "train loss: 0.7489, val loss: 0.9377\n",
      "split: 6, OMIC fold:0, CLAM fold: 3\n",
      "Training omics-based classifier\n"
     ]
    },
    {
     "name": "stderr",
     "output_type": "stream",
     "text": [
      "  0%|          | 0/885 [00:00<?, ?it/s]"
     ]
    },
    {
     "name": "stdout",
     "output_type": "stream",
     "text": [
      "Val set AUROC: 0.5276, accuracy: 0.336\n",
      "Num epochs since best: 1\n"
     ]
    },
    {
     "name": "stderr",
     "output_type": "stream",
     "text": [
      "100%|██████████| 885/885 [00:07<00:00, 111.17it/s]\n",
      "  0%|          | 0/885 [00:00<?, ?it/s]"
     ]
    },
    {
     "name": "stdout",
     "output_type": "stream",
     "text": [
      "train loss: 1.0901, val loss: 0.9875\n",
      "Num epochs since best: 1\n"
     ]
    },
    {
     "name": "stderr",
     "output_type": "stream",
     "text": [
      "100%|██████████| 885/885 [00:07<00:00, 112.82it/s]\n",
      "  0%|          | 0/885 [00:00<?, ?it/s]"
     ]
    },
    {
     "name": "stdout",
     "output_type": "stream",
     "text": [
      "train loss: 0.9612, val loss: 0.9434\n",
      "Num epochs since best: 1\n"
     ]
    },
    {
     "name": "stderr",
     "output_type": "stream",
     "text": [
      "100%|██████████| 885/885 [00:07<00:00, 111.25it/s]\n",
      "  0%|          | 0/885 [00:00<?, ?it/s]"
     ]
    },
    {
     "name": "stdout",
     "output_type": "stream",
     "text": [
      "train loss: 0.9355, val loss: 0.9236\n",
      "Num epochs since best: 1\n"
     ]
    },
    {
     "name": "stderr",
     "output_type": "stream",
     "text": [
      "100%|██████████| 885/885 [00:07<00:00, 113.21it/s]\n",
      "  0%|          | 0/885 [00:00<?, ?it/s]"
     ]
    },
    {
     "name": "stdout",
     "output_type": "stream",
     "text": [
      "train loss: 0.9207, val loss: 0.9285\n",
      "Num epochs since best: 1\n"
     ]
    },
    {
     "name": "stderr",
     "output_type": "stream",
     "text": [
      "100%|██████████| 885/885 [00:07<00:00, 110.69it/s]\n",
      "  0%|          | 0/885 [00:00<?, ?it/s]"
     ]
    },
    {
     "name": "stdout",
     "output_type": "stream",
     "text": [
      "train loss: 0.9101, val loss: 0.9254\n",
      "Num epochs since best: 1\n"
     ]
    },
    {
     "name": "stderr",
     "output_type": "stream",
     "text": [
      "100%|██████████| 885/885 [00:07<00:00, 111.71it/s]\n",
      "  0%|          | 0/885 [00:00<?, ?it/s]"
     ]
    },
    {
     "name": "stdout",
     "output_type": "stream",
     "text": [
      "train loss: 0.9090, val loss: 0.9174\n",
      "Num epochs since best: 2\n"
     ]
    },
    {
     "name": "stderr",
     "output_type": "stream",
     "text": [
      "100%|██████████| 885/885 [00:07<00:00, 111.36it/s]\n",
      "  0%|          | 0/885 [00:00<?, ?it/s]"
     ]
    },
    {
     "name": "stdout",
     "output_type": "stream",
     "text": [
      "train loss: 0.8853, val loss: 0.9184\n",
      "Num epochs since best: 1\n"
     ]
    },
    {
     "name": "stderr",
     "output_type": "stream",
     "text": [
      "100%|██████████| 885/885 [00:07<00:00, 111.28it/s]\n",
      "  0%|          | 0/885 [00:00<?, ?it/s]"
     ]
    },
    {
     "name": "stdout",
     "output_type": "stream",
     "text": [
      "train loss: 0.8826, val loss: 0.8981\n",
      "Num epochs since best: 2\n"
     ]
    },
    {
     "name": "stderr",
     "output_type": "stream",
     "text": [
      "100%|██████████| 885/885 [00:07<00:00, 110.77it/s]\n",
      "  0%|          | 0/885 [00:00<?, ?it/s]"
     ]
    },
    {
     "name": "stdout",
     "output_type": "stream",
     "text": [
      "train loss: 0.8786, val loss: 0.9038\n",
      "Num epochs since best: 1\n"
     ]
    },
    {
     "name": "stderr",
     "output_type": "stream",
     "text": [
      "100%|██████████| 885/885 [00:07<00:00, 111.07it/s]\n",
      "  0%|          | 0/885 [00:00<?, ?it/s]"
     ]
    },
    {
     "name": "stdout",
     "output_type": "stream",
     "text": [
      "train loss: 0.8676, val loss: 0.9301\n",
      "Num epochs since best: 1\n"
     ]
    },
    {
     "name": "stderr",
     "output_type": "stream",
     "text": [
      "100%|██████████| 885/885 [00:07<00:00, 112.22it/s]\n",
      "  0%|          | 0/885 [00:00<?, ?it/s]"
     ]
    },
    {
     "name": "stdout",
     "output_type": "stream",
     "text": [
      "train loss: 0.8637, val loss: 0.8908\n",
      "Num epochs since best: 1\n"
     ]
    },
    {
     "name": "stderr",
     "output_type": "stream",
     "text": [
      "100%|██████████| 885/885 [00:07<00:00, 112.73it/s]\n",
      "  0%|          | 0/885 [00:00<?, ?it/s]"
     ]
    },
    {
     "name": "stdout",
     "output_type": "stream",
     "text": [
      "train loss: 0.8583, val loss: 0.9012\n",
      "Num epochs since best: 2\n"
     ]
    },
    {
     "name": "stderr",
     "output_type": "stream",
     "text": [
      "100%|██████████| 885/885 [00:07<00:00, 111.38it/s]\n",
      "  0%|          | 0/885 [00:00<?, ?it/s]"
     ]
    },
    {
     "name": "stdout",
     "output_type": "stream",
     "text": [
      "train loss: 0.8476, val loss: 0.8905\n",
      "Num epochs since best: 3\n"
     ]
    },
    {
     "name": "stderr",
     "output_type": "stream",
     "text": [
      "100%|██████████| 885/885 [00:08<00:00, 110.32it/s]\n",
      "  0%|          | 0/885 [00:00<?, ?it/s]"
     ]
    },
    {
     "name": "stdout",
     "output_type": "stream",
     "text": [
      "train loss: 0.8501, val loss: 0.9272\n",
      "Num epochs since best: 4\n"
     ]
    },
    {
     "name": "stderr",
     "output_type": "stream",
     "text": [
      "100%|██████████| 885/885 [00:07<00:00, 112.83it/s]\n",
      "  0%|          | 0/885 [00:00<?, ?it/s]"
     ]
    },
    {
     "name": "stdout",
     "output_type": "stream",
     "text": [
      "train loss: 0.8481, val loss: 0.8971\n",
      "Num epochs since best: 5\n"
     ]
    },
    {
     "name": "stderr",
     "output_type": "stream",
     "text": [
      "100%|██████████| 885/885 [00:07<00:00, 112.29it/s]\n",
      "  0%|          | 0/885 [00:00<?, ?it/s]"
     ]
    },
    {
     "name": "stdout",
     "output_type": "stream",
     "text": [
      "train loss: 0.8442, val loss: 0.9072\n",
      "Num epochs since best: 6\n"
     ]
    },
    {
     "name": "stderr",
     "output_type": "stream",
     "text": [
      "100%|██████████| 885/885 [00:07<00:00, 112.55it/s]\n",
      "  0%|          | 0/885 [00:00<?, ?it/s]"
     ]
    },
    {
     "name": "stdout",
     "output_type": "stream",
     "text": [
      "train loss: 0.8314, val loss: 0.8883\n",
      "Num epochs since best: 1\n"
     ]
    },
    {
     "name": "stderr",
     "output_type": "stream",
     "text": [
      "100%|██████████| 885/885 [00:07<00:00, 110.68it/s]\n",
      "  0%|          | 0/885 [00:00<?, ?it/s]"
     ]
    },
    {
     "name": "stdout",
     "output_type": "stream",
     "text": [
      "train loss: 0.8295, val loss: 0.8963\n",
      "Num epochs since best: 2\n"
     ]
    },
    {
     "name": "stderr",
     "output_type": "stream",
     "text": [
      "100%|██████████| 885/885 [00:07<00:00, 111.13it/s]\n",
      "  0%|          | 0/885 [00:00<?, ?it/s]"
     ]
    },
    {
     "name": "stdout",
     "output_type": "stream",
     "text": [
      "train loss: 0.8299, val loss: 0.9112\n",
      "Num epochs since best: 3\n"
     ]
    },
    {
     "name": "stderr",
     "output_type": "stream",
     "text": [
      "100%|██████████| 885/885 [00:07<00:00, 113.30it/s]\n",
      "  0%|          | 0/885 [00:00<?, ?it/s]"
     ]
    },
    {
     "name": "stdout",
     "output_type": "stream",
     "text": [
      "train loss: 0.8321, val loss: 0.8882\n",
      "Num epochs since best: 1\n"
     ]
    },
    {
     "name": "stderr",
     "output_type": "stream",
     "text": [
      "100%|██████████| 885/885 [00:07<00:00, 114.38it/s]\n",
      "  0%|          | 0/885 [00:00<?, ?it/s]"
     ]
    },
    {
     "name": "stdout",
     "output_type": "stream",
     "text": [
      "train loss: 0.8245, val loss: 0.8950\n",
      "Num epochs since best: 2\n"
     ]
    },
    {
     "name": "stderr",
     "output_type": "stream",
     "text": [
      "100%|██████████| 885/885 [00:07<00:00, 113.90it/s]\n",
      "  0%|          | 0/885 [00:00<?, ?it/s]"
     ]
    },
    {
     "name": "stdout",
     "output_type": "stream",
     "text": [
      "train loss: 0.8239, val loss: 0.9044\n",
      "Num epochs since best: 3\n"
     ]
    },
    {
     "name": "stderr",
     "output_type": "stream",
     "text": [
      "100%|██████████| 885/885 [00:07<00:00, 111.07it/s]\n",
      "  0%|          | 0/885 [00:00<?, ?it/s]"
     ]
    },
    {
     "name": "stdout",
     "output_type": "stream",
     "text": [
      "train loss: 0.8191, val loss: 0.9073\n",
      "Num epochs since best: 4\n"
     ]
    },
    {
     "name": "stderr",
     "output_type": "stream",
     "text": [
      "100%|██████████| 885/885 [00:07<00:00, 113.62it/s]\n",
      "  0%|          | 0/885 [00:00<?, ?it/s]"
     ]
    },
    {
     "name": "stdout",
     "output_type": "stream",
     "text": [
      "train loss: 0.8147, val loss: 0.8813\n",
      "Num epochs since best: 5\n"
     ]
    },
    {
     "name": "stderr",
     "output_type": "stream",
     "text": [
      "100%|██████████| 885/885 [00:07<00:00, 112.49it/s]\n",
      "  0%|          | 0/885 [00:00<?, ?it/s]"
     ]
    },
    {
     "name": "stdout",
     "output_type": "stream",
     "text": [
      "train loss: 0.8152, val loss: 0.8775\n",
      "Num epochs since best: 6\n"
     ]
    },
    {
     "name": "stderr",
     "output_type": "stream",
     "text": [
      "100%|██████████| 885/885 [00:07<00:00, 112.38it/s]\n",
      "  0%|          | 0/885 [00:00<?, ?it/s]"
     ]
    },
    {
     "name": "stdout",
     "output_type": "stream",
     "text": [
      "train loss: 0.8149, val loss: 0.8845\n",
      "Num epochs since best: 1\n"
     ]
    },
    {
     "name": "stderr",
     "output_type": "stream",
     "text": [
      "100%|██████████| 885/885 [00:08<00:00, 108.25it/s]\n",
      "  0%|          | 0/885 [00:00<?, ?it/s]"
     ]
    },
    {
     "name": "stdout",
     "output_type": "stream",
     "text": [
      "train loss: 0.8112, val loss: 0.8808\n",
      "Num epochs since best: 2\n"
     ]
    },
    {
     "name": "stderr",
     "output_type": "stream",
     "text": [
      "100%|██████████| 885/885 [00:08<00:00, 109.91it/s]\n",
      "  0%|          | 0/885 [00:00<?, ?it/s]"
     ]
    },
    {
     "name": "stdout",
     "output_type": "stream",
     "text": [
      "train loss: 0.8116, val loss: 0.9145\n",
      "Num epochs since best: 3\n"
     ]
    },
    {
     "name": "stderr",
     "output_type": "stream",
     "text": [
      "100%|██████████| 885/885 [00:07<00:00, 111.92it/s]\n",
      "  0%|          | 0/885 [00:00<?, ?it/s]"
     ]
    },
    {
     "name": "stdout",
     "output_type": "stream",
     "text": [
      "train loss: 0.8025, val loss: 0.8927\n",
      "Num epochs since best: 4\n"
     ]
    },
    {
     "name": "stderr",
     "output_type": "stream",
     "text": [
      "100%|██████████| 885/885 [00:07<00:00, 112.17it/s]\n",
      "  0%|          | 0/885 [00:00<?, ?it/s]"
     ]
    },
    {
     "name": "stdout",
     "output_type": "stream",
     "text": [
      "train loss: 0.8046, val loss: 0.9077\n",
      "Num epochs since best: 5\n"
     ]
    },
    {
     "name": "stderr",
     "output_type": "stream",
     "text": [
      "100%|██████████| 885/885 [00:07<00:00, 111.66it/s]\n",
      "  0%|          | 0/885 [00:00<?, ?it/s]"
     ]
    },
    {
     "name": "stdout",
     "output_type": "stream",
     "text": [
      "train loss: 0.8018, val loss: 0.8820\n",
      "Num epochs since best: 6\n"
     ]
    },
    {
     "name": "stderr",
     "output_type": "stream",
     "text": [
      "100%|██████████| 885/885 [00:07<00:00, 111.72it/s]\n",
      "  0%|          | 0/885 [00:00<?, ?it/s]"
     ]
    },
    {
     "name": "stdout",
     "output_type": "stream",
     "text": [
      "train loss: 0.8007, val loss: 0.8909\n",
      "Num epochs since best: 7\n"
     ]
    },
    {
     "name": "stderr",
     "output_type": "stream",
     "text": [
      "100%|██████████| 885/885 [00:07<00:00, 113.11it/s]\n",
      "  0%|          | 0/885 [00:00<?, ?it/s]"
     ]
    },
    {
     "name": "stdout",
     "output_type": "stream",
     "text": [
      "train loss: 0.7895, val loss: 0.9037\n",
      "Num epochs since best: 8\n"
     ]
    },
    {
     "name": "stderr",
     "output_type": "stream",
     "text": [
      "100%|██████████| 885/885 [00:07<00:00, 111.07it/s]\n",
      "  0%|          | 0/885 [00:00<?, ?it/s]"
     ]
    },
    {
     "name": "stdout",
     "output_type": "stream",
     "text": [
      "train loss: 0.7940, val loss: 0.8841\n",
      "Num epochs since best: 9\n"
     ]
    },
    {
     "name": "stderr",
     "output_type": "stream",
     "text": [
      "100%|██████████| 885/885 [00:07<00:00, 112.62it/s]\n",
      "  0%|          | 0/885 [00:00<?, ?it/s]"
     ]
    },
    {
     "name": "stdout",
     "output_type": "stream",
     "text": [
      "train loss: 0.7892, val loss: 0.9353\n",
      "Num epochs since best: 10\n"
     ]
    },
    {
     "name": "stderr",
     "output_type": "stream",
     "text": [
      "100%|██████████| 885/885 [00:07<00:00, 112.58it/s]\n",
      "  0%|          | 0/885 [00:00<?, ?it/s]"
     ]
    },
    {
     "name": "stdout",
     "output_type": "stream",
     "text": [
      "train loss: 0.7979, val loss: 0.9012\n",
      "Num epochs since best: 11\n"
     ]
    },
    {
     "name": "stderr",
     "output_type": "stream",
     "text": [
      "100%|██████████| 885/885 [00:07<00:00, 112.55it/s]\n",
      "  0%|          | 0/885 [00:00<?, ?it/s]"
     ]
    },
    {
     "name": "stdout",
     "output_type": "stream",
     "text": [
      "train loss: 0.7945, val loss: 0.8757\n",
      "Num epochs since best: 12\n"
     ]
    },
    {
     "name": "stderr",
     "output_type": "stream",
     "text": [
      "100%|██████████| 885/885 [00:07<00:00, 112.33it/s]\n",
      "  0%|          | 0/885 [00:00<?, ?it/s]"
     ]
    },
    {
     "name": "stdout",
     "output_type": "stream",
     "text": [
      "train loss: 0.7905, val loss: 0.8847\n",
      "Num epochs since best: 13\n"
     ]
    },
    {
     "name": "stderr",
     "output_type": "stream",
     "text": [
      "100%|██████████| 899/899 [00:08<00:00, 111.85it/s]\n",
      "  0%|          | 0/899 [00:00<?, ?it/s]"
     ]
    },
    {
     "name": "stdout",
     "output_type": "stream",
     "text": [
      "train loss: 0.7306, val loss: 0.9814\n",
      "Num epochs since best: 22\n"
     ]
    },
    {
     "name": "stderr",
     "output_type": "stream",
     "text": [
      "100%|██████████| 899/899 [00:07<00:00, 112.52it/s]\n",
      "  0%|          | 0/899 [00:00<?, ?it/s]"
     ]
    },
    {
     "name": "stdout",
     "output_type": "stream",
     "text": [
      "train loss: 0.7279, val loss: 1.0020\n",
      "Num epochs since best: 23\n"
     ]
    },
    {
     "name": "stderr",
     "output_type": "stream",
     "text": [
      "100%|██████████| 899/899 [00:08<00:00, 112.33it/s]\n",
      "  0%|          | 0/899 [00:00<?, ?it/s]"
     ]
    },
    {
     "name": "stdout",
     "output_type": "stream",
     "text": [
      "train loss: 0.7297, val loss: 0.9530\n",
      "Num epochs since best: 24\n"
     ]
    },
    {
     "name": "stderr",
     "output_type": "stream",
     "text": [
      "100%|██████████| 899/899 [00:08<00:00, 112.18it/s]\n",
      "  0%|          | 0/899 [00:00<?, ?it/s]"
     ]
    },
    {
     "name": "stdout",
     "output_type": "stream",
     "text": [
      "train loss: 0.7226, val loss: 0.9668\n",
      "Num epochs since best: 25\n"
     ]
    },
    {
     "name": "stderr",
     "output_type": "stream",
     "text": [
      "100%|██████████| 899/899 [00:08<00:00, 111.85it/s]\n",
      "  0%|          | 0/899 [00:00<?, ?it/s]"
     ]
    },
    {
     "name": "stdout",
     "output_type": "stream",
     "text": [
      "train loss: 0.7299, val loss: 0.9645\n",
      "Num epochs since best: 26\n"
     ]
    },
    {
     "name": "stderr",
     "output_type": "stream",
     "text": [
      "100%|██████████| 899/899 [00:08<00:00, 110.76it/s]\n",
      "  0%|          | 0/899 [00:00<?, ?it/s]"
     ]
    },
    {
     "name": "stdout",
     "output_type": "stream",
     "text": [
      "train loss: 0.7269, val loss: 0.9669\n",
      "Num epochs since best: 27\n"
     ]
    },
    {
     "name": "stderr",
     "output_type": "stream",
     "text": [
      "100%|██████████| 899/899 [00:08<00:00, 109.18it/s]\n",
      "  0%|          | 0/899 [00:00<?, ?it/s]"
     ]
    },
    {
     "name": "stdout",
     "output_type": "stream",
     "text": [
      "train loss: 0.7264, val loss: 0.9638\n",
      "Num epochs since best: 28\n"
     ]
    },
    {
     "name": "stderr",
     "output_type": "stream",
     "text": [
      "100%|██████████| 899/899 [00:08<00:00, 109.28it/s]\n",
      "  0%|          | 0/899 [00:00<?, ?it/s]"
     ]
    },
    {
     "name": "stdout",
     "output_type": "stream",
     "text": [
      "train loss: 0.7248, val loss: 0.9805\n",
      "Num epochs since best: 29\n"
     ]
    },
    {
     "name": "stderr",
     "output_type": "stream",
     "text": [
      "100%|██████████| 899/899 [00:08<00:00, 110.19it/s]\n",
      "  0%|          | 0/899 [00:00<?, ?it/s]"
     ]
    },
    {
     "name": "stdout",
     "output_type": "stream",
     "text": [
      "train loss: 0.7295, val loss: 0.9853\n",
      "Num epochs since best: 30\n"
     ]
    },
    {
     "name": "stderr",
     "output_type": "stream",
     "text": [
      "100%|██████████| 899/899 [00:08<00:00, 109.91it/s]\n"
     ]
    },
    {
     "name": "stdout",
     "output_type": "stream",
     "text": [
      "train loss: 0.7295, val loss: 0.9547\n",
      "Running split 6, fold 1\n"
     ]
    }
   ],
   "source": [
    "# loop from 0 to Nsplit\n",
    "\n",
    "start_split = 6\n",
    "start_fold = 0\n",
    "Ncval = 5\n",
    "ml_strategy = ['train','validation']\n",
    "\n",
    "#for rs in range(start_split,Nsplit):\n",
    "for rs in range(start_split,start_split+1):\n",
    "    \n",
    "    # Creating a folder for each split\n",
    "    split_savedir = os.path.join(trl_dir,'split'+str(rs))\n",
    "    os.makedirs(split_savedir, exist_ok=True)\n",
    "        \n",
    "    ind = ind_testing[rs, :]\n",
    "    shuffled_patient_classes = class_list_patients[ind]\n",
    "    shuffled_patients = pat_ids_unique[ind]\n",
    "\n",
    "    skf = StratifiedKFold(n_splits=2, shuffle=False) # shuffling is done earlier with permutations\n",
    "\n",
    "    # Transcriptomic learning gets n_splits-1 folds (index1), classifier training gets 1 fold (index 2)\n",
    "    # index1, index2 = next(iter(skf.split(ind, shuffled_patient_classes)))\n",
    "    group1_index, group2_index = next(iter(skf.split(ind, shuffled_patient_classes)))\n",
    "\n",
    "    print(f'Number of group 1 patients: {len(group1_index)}, Number of group 2 patients: {len(group2_index)}')\n",
    "\n",
    "    pat_G1 = shuffled_patients[group1_index]\n",
    "    pat_G2 = shuffled_patients[group2_index]\n",
    "    pat_G1_classes = shuffled_patient_classes[group1_index]\n",
    "    pat_G2_classes = shuffled_patient_classes[group2_index]\n",
    "\n",
    "    # Make group 1 and group 2 datasets\n",
    "    slide_ix_group1 = [ix for ix, d in enumerate(dataset.patients) if d in pat_G1]\n",
    "    slide_ix_group2 = [ix for ix, d in enumerate(dataset.patients) if d in pat_G2]\n",
    "    group1_dataset = subset_wsi_dataset(dataset,slide_ix_group1)\n",
    "    \n",
    "    group2_dataset = subset_wsi_dataset(dataset,slide_ix_group2)\n",
    "    subtypes = list(group2_dataset.subtypes)\n",
    "\n",
    "    print(f'Number of group 1 images: {len(group1_dataset)}, Number of group 2 images: {len(group2_dataset)}')\n",
    "    \n",
    "\n",
    "    for fold in range(start_fold,num_fold):\n",
    "        \n",
    "        #if rs==start_split and fold < start_fold:\n",
    "        #    continue\n",
    "        print(f'Running split {str(rs)}, fold {str(fold)}')\n",
    "\n",
    "        ################################################################################ \n",
    "        # Obtain HE2Omics embeddings and make omic data\n",
    "        ################################################################################ \n",
    "        model = torch.load(os.path.join('./' + exp.savedir,'split'+str(rs),'fold'+str(fold)+'_transcriptome_model.pt'),map_location='cpu')\n",
    "\n",
    "        scores = []\n",
    "        for count, sample in enumerate(group2_dataset.samples):\n",
    "            #if count % 300 == 0:\n",
    "            #    print(count)\n",
    "\n",
    "            HE = np.load(sample[0])\n",
    "            x = torch.Tensor(HE[np.newaxis].transpose(1, 2, 0))\n",
    "            model.eval()\n",
    "            with torch.no_grad():\n",
    "                scores.append(model.conv_spare_last(x).detach().numpy().squeeze()) # Run partial inference\n",
    "\n",
    "        # Each element in the 'scores' list object is able to inform about input features size\n",
    "        model_params['input_feature_size'] = scores[0].shape[1]\n",
    "\n",
    "        ### Define omic dataset\n",
    "        omicdata = AlltilesOmic(scores,subtypes,class_names,scaleOmicFeatures=scaleOmicFeatures,n_tiles=n_tiles)\n",
    "\n",
    "        ################################################################################\n",
    "        # Creating CLAM folds (and a folder for each OMIC fold)\n",
    "        ################################################################################\n",
    "        fold_savedir = os.path.join(split_savedir,'fold'+str(fold))\n",
    "        os.makedirs(fold_savedir, exist_ok=True)\n",
    "        \n",
    "        ## Stratified cross-validation in CLAM, stratify by subtype and trial\n",
    "        # Different random seed for each OMIC fold to create CLAM folds\n",
    "        #cval = fold   \n",
    "        #train_idx, valid_idx, test_idx = patient_stratified_kfold(\n",
    "        #                group2_dataset, n_splits=kfold_group2, valid_size=0.2,\n",
    "        #                random_state=12*cval,stratifySubtype=False) # stratify set to False because it did not work when only 1/6 of the samples are used to train classifier\n",
    "\n",
    "        ### Outfile name - base extensions\n",
    "        out_overall = os.path.join(trl_dir,outfolder,outfile_base + f\"_split_{rs}_fold_{fold}_overall.csv\")\n",
    "        out_auc = os.path.join(trl_dir,outfolder,outfile_base + f\"_split_{rs}_fold_{fold}_class_AUC.csv\")\n",
    "        out_acc = os.path.join(trl_dir,outfolder,outfile_base + f\"_split_{rs}_fold_{fold}_class_ACC.csv\")\n",
    "        # Text file\n",
    "        outname = os.path.join(trl_dir,outfolder,outfile_base + f\"_split_{rs}_fold_{fold}_output.txt\")\n",
    "\n",
    "        ov_metric = np.zeros((Ncval,2 * len(ml_strategy)))\n",
    "        auc_collect = np.zeros((len(ml_strategy) * Ncval,len(class_names)))\n",
    "        acc_collect = np.zeros((len(ml_strategy) * Ncval,len(class_names)))\n",
    "        \n",
    "\n",
    "        for cval in range(Ncval):  \n",
    "            print(f'split: {rs}, OMIC fold:{fold}, CLAM fold: {cval}',file=open(outname, 'a'))\n",
    "            print(f'split: {rs}, OMIC fold:{fold}, CLAM fold: {cval}')\n",
    "            \n",
    "            train_idx, valid_idx = patient_stratified_single_run(group2_dataset, valid_size=0.2, \n",
    "                                                                 stratifySubtype=True,random_state=12*cval)\n",
    "\n",
    "            #################### save current folds\n",
    "            this = (group2_dataset.patients[train_idx],group2_dataset.patients[valid_idx])\n",
    "            with open(os.path.join(fold_savedir, 'group2_fold_patient_ids_TRL_clamFold' + str(cval) + '.pkl'), 'wb') as handle:\n",
    "                pkl.dump(this, handle)\n",
    "            ################################################################################ \n",
    "\n",
    "            # Separate train, validation, and test sets  \n",
    "            train_set = Subset(omicdata, train_idx)\n",
    "            valid_set = Subset(omicdata, valid_idx)\n",
    "\n",
    "            ##### Omics-based classifier\n",
    "            omic_model = OmicToSubtype(**model_params) # attention model\n",
    "            omic_optimizer = omic_setup._setup_optimization(omic_model)\n",
    "            #scheduler = optim.lr_scheduler.StepLR(optimizer,step_size=4,gamma=0.9)\n",
    "            omic_scheduler = omic_setup._setup_scheduler(omic_optimizer)\n",
    "\n",
    "            # Train\n",
    "            print(\"Training omics-based classifier\")\n",
    "            metric, class_auc, class_acc = omic_fit(omic_model,train_set,valid_set,\n",
    "                               params=training_params,optimizer=omic_optimizer,\n",
    "                               scheduler=omic_scheduler,\n",
    "                               path=os.path.join(fold_savedir,'CLAM_fold_'+str(cval)),\n",
    "                               outname = outname)\n",
    "            \n",
    "            ov_metric[cval] = metric.values\n",
    "            # Allow printing output at each inner loop iteration\n",
    "            ind_name = ['omicfold' + str(fold) + '_clamfold' + str(jnk) for jnk in range(Ncval)]\n",
    "            ov_metric_df = pd.DataFrame(ov_metric,columns = ['tr_auc','tr_acc','val_auc','val_acc'],\n",
    "                            index = ind_name)\n",
    "            ov_metric_df.to_csv(out_overall,index=True)\n",
    "\n",
    "            auc_collect[( len(ml_strategy)*cval):( len(ml_strategy) *(cval+1))] = class_auc\n",
    "            # Allow printing output at each inner loop iteration\n",
    "            auc_df = pd.DataFrame(auc_collect, columns = ['class1','class2','class3','class4'],\n",
    "                        index = np.tile(['train','val'],Ncval))\n",
    "\n",
    "            acc_collect[( len(ml_strategy)*cval):( len(ml_strategy) *(cval+1))] = class_acc\n",
    "            # Allow printing output at each inner loop iteration\n",
    "            acc_df = pd.DataFrame(acc_collect, columns = ['class1','class2','class3','class4'],\n",
    "                        index = np.tile(['train','val'],Ncval))\n",
    "\n",
    "            auc_df.to_csv(out_auc,index=True)\n",
    "            acc_df.to_csv(out_acc,index=True)"
   ]
  },
  {
   "cell_type": "code",
   "execution_count": null,
   "metadata": {},
   "outputs": [],
   "source": [
    "start_split = 5\n",
    "start_fold = 4\n",
    "Ncval = 5\n",
    "ml_strategy = ['train','validation']\n",
    "\n",
    "#for rs in range(start_split,Nsplit):\n",
    "for rs in range(start_split,start_split+1):\n",
    "    \n",
    "    # Creating a folder for each split\n",
    "    split_savedir = os.path.join(trl_dir,'split'+str(rs))\n",
    "    os.makedirs(split_savedir, exist_ok=True)\n",
    "        \n",
    "    ind = ind_testing[rs, :]\n",
    "    shuffled_patient_classes = class_list_patients[ind]\n",
    "    shuffled_patients = pat_ids_unique[ind]\n",
    "\n",
    "    skf = StratifiedKFold(n_splits=2, shuffle=False) # shuffling is done earlier with permutations\n",
    "\n",
    "    # Transcriptomic learning gets n_splits-1 folds (index1), classifier training gets 1 fold (index 2)\n",
    "    # index1, index2 = next(iter(skf.split(ind, shuffled_patient_classes)))\n",
    "    group1_index, group2_index = next(iter(skf.split(ind, shuffled_patient_classes)))\n",
    "\n",
    "    print(f'Number of group 1 patients: {len(group1_index)}, Number of group 2 patients: {len(group2_index)}')\n",
    "\n",
    "    pat_G1 = shuffled_patients[group1_index]\n",
    "    pat_G2 = shuffled_patients[group2_index]\n",
    "    pat_G1_classes = shuffled_patient_classes[group1_index]\n",
    "    pat_G2_classes = shuffled_patient_classes[group2_index]\n",
    "\n",
    "    # Make group 1 and group 2 datasets\n",
    "    slide_ix_group1 = [ix for ix, d in enumerate(dataset.patients) if d in pat_G1]\n",
    "    slide_ix_group2 = [ix for ix, d in enumerate(dataset.patients) if d in pat_G2]\n",
    "    group1_dataset = subset_wsi_dataset(dataset,slide_ix_group1)\n",
    "    \n",
    "    group2_dataset = subset_wsi_dataset(dataset,slide_ix_group2)\n",
    "    subtypes = list(group2_dataset.subtypes)\n",
    "\n",
    "    print(f'Number of group 1 images: {len(group1_dataset)}, Number of group 2 images: {len(group2_dataset)}')\n",
    "    \n",
    "\n",
    "    for fold in range(start_fold,start_fold+1):\n",
    "        \n",
    "        #if rs==start_split and fold < start_fold:\n",
    "        #    continue\n",
    "        print(f'Running split {str(rs)}, fold {str(fold)}')\n",
    "\n",
    "        ################################################################################ \n",
    "        # Obtain HE2Omics embeddings and make omic data\n",
    "        ################################################################################ \n",
    "        model = torch.load(os.path.join('./' + exp.savedir,'split'+str(rs),'fold'+str(fold)+'_transcriptome_model.pt'),map_location='cpu')\n",
    "\n",
    "        scores = []\n",
    "        for count, sample in enumerate(group2_dataset.samples):\n",
    "            #if count % 300 == 0:\n",
    "            #    print(count)\n",
    "\n",
    "            HE = np.load(sample[0])\n",
    "            x = torch.Tensor(HE[np.newaxis].transpose(1, 2, 0))\n",
    "            model.eval()\n",
    "            with torch.no_grad():\n",
    "                scores.append(model.conv_spare_last(x).detach().numpy().squeeze()) # Run partial inference\n",
    "\n",
    "        # Each element in the 'scores' list object is able to inform about input features size\n",
    "        model_params['input_feature_size'] = scores[0].shape[1]\n",
    "\n",
    "        ### Define omic dataset\n",
    "        omicdata = AlltilesOmic(scores,subtypes,class_names,scaleOmicFeatures=scaleOmicFeatures,n_tiles=n_tiles)\n",
    "\n",
    "        ################################################################################\n",
    "        # Creating CLAM folds (and a folder for each OMIC fold)\n",
    "        ################################################################################\n",
    "        fold_savedir = os.path.join(split_savedir,'fold'+str(fold))\n",
    "        os.makedirs(fold_savedir, exist_ok=True)\n",
    "        \n",
    "        ## Stratified cross-validation in CLAM, stratify by subtype and trial\n",
    "        # Different random seed for each OMIC fold to create CLAM folds\n",
    "        #cval = fold   \n",
    "        #train_idx, valid_idx, test_idx = patient_stratified_kfold(\n",
    "        #                group2_dataset, n_splits=kfold_group2, valid_size=0.2,\n",
    "        #                random_state=12*cval,stratifySubtype=False) # stratify set to False because it did not work when only 1/6 of the samples are used to train classifier\n",
    "\n",
    "        ### Outfile name - base extensions\n",
    "        out_overall = os.path.join(trl_dir,outfolder,outfile_base + f\"_split_{rs}_fold_{fold}_overall.csv\")\n",
    "        out_auc = os.path.join(trl_dir,outfolder,outfile_base + f\"_split_{rs}_fold_{fold}_class_AUC.csv\")\n",
    "        out_acc = os.path.join(trl_dir,outfolder,outfile_base + f\"_split_{rs}_fold_{fold}_class_ACC.csv\")\n",
    "        # Text file\n",
    "        outname = os.path.join(trl_dir,outfolder,outfile_base + f\"_split_{rs}_fold_{fold}_output.txt\")\n",
    "\n",
    "        ov_metric = np.zeros((Ncval,2 * len(ml_strategy)))\n",
    "        auc_collect = np.zeros((len(ml_strategy) * Ncval,len(class_names)))\n",
    "        acc_collect = np.zeros((len(ml_strategy) * Ncval,len(class_names)))\n",
    "        \n",
    "\n",
    "        for cval in range(Ncval):  \n",
    "            print(f'split: {rs}, OMIC fold:{fold}, CLAM fold: {cval}',file=open(outname, 'a'))\n",
    "            print(f'split: {rs}, OMIC fold:{fold}, CLAM fold: {cval}')\n",
    "            \n",
    "            train_idx, valid_idx = patient_stratified_single_run(group2_dataset, valid_size=0.2, \n",
    "                                                                 stratifySubtype=True,random_state=12*cval)\n",
    "\n",
    "            #################### save current folds\n",
    "            this = (group2_dataset.patients[train_idx],group2_dataset.patients[valid_idx])\n",
    "            with open(os.path.join(fold_savedir, 'group2_fold_patient_ids_TRL_clamFold' + str(cval) + '.pkl'), 'wb') as handle:\n",
    "                pkl.dump(this, handle)\n",
    "            ################################################################################ \n",
    "\n",
    "            # Separate train, validation, and test sets  \n",
    "            train_set = Subset(omicdata, train_idx)\n",
    "            valid_set = Subset(omicdata, valid_idx)\n",
    "\n",
    "            ##### Omics-based classifier\n",
    "            omic_model = OmicToSubtype(**model_params) # attention model\n",
    "            omic_optimizer = omic_setup._setup_optimization(omic_model)\n",
    "            #scheduler = optim.lr_scheduler.StepLR(optimizer,step_size=4,gamma=0.9)\n",
    "            omic_scheduler = omic_setup._setup_scheduler(omic_optimizer)\n",
    "\n",
    "            # Train\n",
    "            print(\"Training omics-based classifier\")\n",
    "            metric, class_auc, class_acc = omic_fit(omic_model,train_set,valid_set,\n",
    "                               params=training_params,optimizer=omic_optimizer,\n",
    "                               scheduler=omic_scheduler,\n",
    "                               path=os.path.join(fold_savedir,'CLAM_fold_'+str(cval)),\n",
    "                               outname = outname)\n",
    "            \n",
    "            ov_metric[cval] = metric.values\n",
    "            # Allow printing output at each inner loop iteration\n",
    "            ind_name = ['omicfold' + str(fold) + '_clamfold' + str(jnk) for jnk in range(Ncval)]\n",
    "            ov_metric_df = pd.DataFrame(ov_metric,columns = ['tr_auc','tr_acc','val_auc','val_acc'],\n",
    "                            index = ind_name)\n",
    "            ov_metric_df.to_csv(out_overall,index=True)\n",
    "\n",
    "            auc_collect[( len(ml_strategy)*cval):( len(ml_strategy) *(cval+1))] = class_auc\n",
    "            # Allow printing output at each inner loop iteration\n",
    "            auc_df = pd.DataFrame(auc_collect, columns = ['class1','class2','class3','class4'],\n",
    "                        index = np.tile(['train','val'],Ncval))\n",
    "\n",
    "            acc_collect[( len(ml_strategy)*cval):( len(ml_strategy) *(cval+1))] = class_acc\n",
    "            # Allow printing output at each inner loop iteration\n",
    "            acc_df = pd.DataFrame(acc_collect, columns = ['class1','class2','class3','class4'],\n",
    "                        index = np.tile(['train','val'],Ncval))\n",
    "\n",
    "            auc_df.to_csv(out_auc,index=True)\n",
    "            acc_df.to_csv(out_acc,index=True)"
   ]
  },
  {
   "cell_type": "code",
   "execution_count": null,
   "metadata": {},
   "outputs": [],
   "source": []
  },
  {
   "cell_type": "code",
   "execution_count": null,
   "metadata": {},
   "outputs": [],
   "source": []
  },
  {
   "cell_type": "code",
   "execution_count": null,
   "metadata": {},
   "outputs": [],
   "source": []
  }
 ],
 "metadata": {
  "kernelspec": {
   "display_name": "condabase",
   "language": "python",
   "name": "condabase"
  },
  "language_info": {
   "codemirror_mode": {
    "name": "ipython",
    "version": 3
   },
   "file_extension": ".py",
   "mimetype": "text/x-python",
   "name": "python",
   "nbconvert_exporter": "python",
   "pygments_lexer": "ipython3",
   "version": "3.8.8"
  }
 },
 "nbformat": 4,
 "nbformat_minor": 4
}
